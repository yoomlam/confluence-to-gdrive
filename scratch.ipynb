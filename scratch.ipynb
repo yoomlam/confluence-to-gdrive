{
 "cells": [
  {
   "cell_type": "code",
   "execution_count": 2,
   "metadata": {},
   "outputs": [],
   "source": [
    "%load_ext autoreload\n",
    "%autoreload 2"
   ]
  },
  {
   "cell_type": "code",
   "execution_count": 3,
   "metadata": {},
   "outputs": [],
   "source": [
    "import sys  \n",
    "sys.path.insert(1, './src')"
   ]
  },
  {
   "cell_type": "code",
   "execution_count": 4,
   "metadata": {},
   "outputs": [],
   "source": [
    "from main import *"
   ]
  },
  {
   "cell_type": "code",
   "execution_count": 5,
   "metadata": {},
   "outputs": [],
   "source": [
    "import logging\n",
    "logging.basicConfig(level=logging.INFO)"
   ]
  },
  {
   "cell_type": "code",
   "execution_count": 5,
   "metadata": {},
   "outputs": [],
   "source": [
    "from ui_helpers import *"
   ]
  },
  {
   "cell_type": "code",
   "execution_count": 6,
   "metadata": {},
   "outputs": [],
   "source": [
    "space_key = \"NL\"\n",
    "# page_title = \"Design and Prototyping\"\n",
    "page_title = \"Product\""
   ]
  },
  {
   "cell_type": "code",
   "execution_count": 7,
   "metadata": {},
   "outputs": [],
   "source": [
    "class MyMock(dict):\n",
    "    __getattr__= dict.__getitem__\n",
    "    __setattr__= dict.__setitem__\n",
    "    __delattr__= dict.__delitem__\n",
    "ss = MyMock()"
   ]
  },
  {
   "cell_type": "code",
   "execution_count": 8,
   "metadata": {},
   "outputs": [
    {
     "name": "stderr",
     "output_type": "stream",
     "text": [
      "DEBUG:main:space_key='NL', page_title='Product'\n"
     ]
    },
    {
     "name": "stderr",
     "output_type": "stream",
     "text": [
      "INFO:atlassian.confluence:rest/api/content/927367268/child/page\n",
      "INFO:atlassian.confluence:rest/api/content/1203175560/child/page\n",
      "INFO:atlassian.confluence:rest/api/content/1233616975/child/page\n",
      "INFO:atlassian.confluence:rest/api/content/1291419695/child/page\n",
      "INFO:atlassian.confluence:rest/api/content/1305083960/child/page\n",
      "INFO:atlassian.confluence:rest/api/content/1307967493/child/page\n",
      "INFO:atlassian.confluence:rest/api/content/1342177290/child/page\n",
      "INFO:atlassian.confluence:rest/api/content/1384448006/child/page\n",
      "INFO:atlassian.confluence:rest/api/content/1404895236/child/page\n",
      "INFO:atlassian.confluence:rest/api/content/1417838624/child/page\n",
      "INFO:atlassian.confluence:rest/api/content/1590591516/child/page\n",
      "INFO:atlassian.confluence:rest/api/content/1549631705/child/page\n"
     ]
    }
   ],
   "source": [
    "ss.root_node = build_tree(space_key, page_title)\n"
   ]
  },
  {
   "cell_type": "code",
   "execution_count": 9,
   "metadata": {},
   "outputs": [],
   "source": [
    "root_node = ss.root_node"
   ]
  },
  {
   "cell_type": "code",
   "execution_count": 10,
   "metadata": {},
   "outputs": [],
   "source": [
    "ss.nodes = {node.id:node for node in PreOrderIter(ss.root_node)}"
   ]
  },
  {
   "cell_type": "code",
   "execution_count": 11,
   "metadata": {},
   "outputs": [
    {
     "data": {
      "text/plain": [
       "[{'id': '927367268',\n",
       "  'title': 'Product',\n",
       "  'modified': datetime.datetime(2024, 1, 22, 19, 28, 16, 391000),\n",
       "  'parent': None,\n",
       "  'include': True},\n",
       " {'id': '1203175560',\n",
       "  'title': 'Feature Brief: Extensible data sources',\n",
       "  'modified': datetime.datetime(2024, 7, 2, 17, 1, 35, 953000),\n",
       "  'parent': 'Product',\n",
       "  'include': True},\n",
       " {'id': '1233616975',\n",
       "  'title': 'Tech spec for ingesting policy PDFs',\n",
       "  'modified': datetime.datetime(2024, 7, 18, 15, 59, 35, 878000),\n",
       "  'parent': 'Feature Brief: Extensible data sources',\n",
       "  'include': True},\n",
       " {'id': '1291419695',\n",
       "  'title': 'Evaluation Criteria for PDF-Parsing Tools',\n",
       "  'modified': datetime.datetime(2024, 8, 22, 21, 12, 24, 994000),\n",
       "  'parent': 'Feature Brief: Extensible data sources',\n",
       "  'include': True},\n",
       " {'id': '1305083960',\n",
       "  'title': 'Tech Spec for improving PDF parsing',\n",
       "  'modified': datetime.datetime(2024, 8, 28, 19, 26, 44, 862000),\n",
       "  'parent': 'Feature Brief: Extensible data sources',\n",
       "  'include': True},\n",
       " {'id': '1307967493',\n",
       "  'title': 'Sample inputs and outputs for test cases',\n",
       "  'modified': datetime.datetime(2024, 8, 22, 17, 27, 47, 775000),\n",
       "  'parent': 'Tech Spec for improving PDF parsing',\n",
       "  'include': True},\n",
       " {'id': '1342177290',\n",
       "  'title': 'Tech Spec: Separating Chunks and Citations',\n",
       "  'modified': datetime.datetime(2024, 9, 13, 13, 54, 5, 480000),\n",
       "  'parent': 'Feature Brief: Extensible data sources',\n",
       "  'include': True},\n",
       " {'id': '1384448006',\n",
       "  'title': 'Lightweight ingestion script for web sources',\n",
       "  'modified': datetime.datetime(2024, 10, 2, 15, 23, 7, 632000),\n",
       "  'parent': 'Feature Brief: Extensible data sources',\n",
       "  'include': True},\n",
       " {'id': '1404895236',\n",
       "  'title': 'Tech Spec for Implementing Conversation History',\n",
       "  'modified': datetime.datetime(2024, 10, 17, 20, 2, 49, 488000),\n",
       "  'parent': 'Product',\n",
       "  'include': True},\n",
       " {'id': '1417838624',\n",
       "  'title': 'Chatbot versioning strategy',\n",
       "  'modified': datetime.datetime(2024, 10, 24, 22, 37, 40, 771000),\n",
       "  'parent': 'Product',\n",
       "  'include': True},\n",
       " {'id': '1590591516',\n",
       "  'title': 'Tech Spec: Automating QA evaluation pipeline for DST chat',\n",
       "  'modified': datetime.datetime(2025, 1, 28, 18, 32, 43, 385000),\n",
       "  'parent': 'Product',\n",
       "  'include': True},\n",
       " {'id': '1549631705',\n",
       "  'title': '[DRAFT] Tech Spec: Exploration of expert curation for DST evaluation',\n",
       "  'modified': datetime.datetime(2025, 1, 30, 17, 48, 41, 542000),\n",
       "  'parent': 'Product',\n",
       "  'include': True}]"
      ]
     },
     "execution_count": 11,
     "metadata": {},
     "output_type": "execute_result"
    }
   ],
   "source": [
    "pages_response = [PageNode(n).as_row() for n in PreOrderIter(ss.root_node)]\n",
    "pages_response"
   ]
  },
  {
   "cell_type": "code",
   "execution_count": 12,
   "metadata": {},
   "outputs": [
    {
     "data": {
      "text/plain": [
       "Node('/927367268', id='927367268', modified=datetime.datetime(2024, 1, 22, 19, 28, 16, 391000), title='Product')"
      ]
     },
     "execution_count": 12,
     "metadata": {},
     "output_type": "execute_result"
    }
   ],
   "source": [
    "ss.nodes[pages_response[0]['id']]"
   ]
  },
  {
   "cell_type": "code",
   "execution_count": 13,
   "metadata": {},
   "outputs": [
    {
     "data": {
      "text/plain": [
       "'2024-08-25T00:00:00'"
      ]
     },
     "execution_count": 13,
     "metadata": {},
     "output_type": "execute_result"
    }
   ],
   "source": [
    "from datetime import datetime\n",
    "after_date = \"2024-08-25\"\n",
    "after_time = \"00:00:00\"\n",
    "date_str = f\"{after_date}T{after_time}.000Z\"\n",
    "timestamp = datetime.strptime(date_str, \"%Y-%m-%dT%H:%M:%S.%fZ\")\n",
    "timestamp.isoformat()"
   ]
  },
  {
   "cell_type": "code",
   "execution_count": 14,
   "metadata": {},
   "outputs": [],
   "source": [
    "exclude_old_nodes(root_node, timestamp)"
   ]
  },
  {
   "cell_type": "code",
   "execution_count": 15,
   "metadata": {},
   "outputs": [],
   "source": [
    "ss.pages_response = [PageNode(n).as_row() for n in PreOrderIter(ss.root_node)]"
   ]
  },
  {
   "cell_type": "code",
   "execution_count": 16,
   "metadata": {},
   "outputs": [
    {
     "data": {
      "text/plain": [
       "[{'id': '927367268',\n",
       "  'title': 'Product',\n",
       "  'modified': datetime.datetime(2024, 1, 22, 19, 28, 16, 391000),\n",
       "  'parent': None,\n",
       "  'include': False},\n",
       " {'id': '1203175560',\n",
       "  'title': 'Feature Brief: Extensible data sources',\n",
       "  'modified': datetime.datetime(2024, 7, 2, 17, 1, 35, 953000),\n",
       "  'parent': 'Product',\n",
       "  'include': False},\n",
       " {'id': '1233616975',\n",
       "  'title': 'Tech spec for ingesting policy PDFs',\n",
       "  'modified': datetime.datetime(2024, 7, 18, 15, 59, 35, 878000),\n",
       "  'parent': 'Feature Brief: Extensible data sources',\n",
       "  'include': False},\n",
       " {'id': '1291419695',\n",
       "  'title': 'Evaluation Criteria for PDF-Parsing Tools',\n",
       "  'modified': datetime.datetime(2024, 8, 22, 21, 12, 24, 994000),\n",
       "  'parent': 'Feature Brief: Extensible data sources',\n",
       "  'include': False},\n",
       " {'id': '1305083960',\n",
       "  'title': 'Tech Spec for improving PDF parsing',\n",
       "  'modified': datetime.datetime(2024, 8, 28, 19, 26, 44, 862000),\n",
       "  'parent': 'Feature Brief: Extensible data sources',\n",
       "  'include': True},\n",
       " {'id': '1307967493',\n",
       "  'title': 'Sample inputs and outputs for test cases',\n",
       "  'modified': datetime.datetime(2024, 8, 22, 17, 27, 47, 775000),\n",
       "  'parent': 'Tech Spec for improving PDF parsing',\n",
       "  'include': False},\n",
       " {'id': '1342177290',\n",
       "  'title': 'Tech Spec: Separating Chunks and Citations',\n",
       "  'modified': datetime.datetime(2024, 9, 13, 13, 54, 5, 480000),\n",
       "  'parent': 'Feature Brief: Extensible data sources',\n",
       "  'include': True},\n",
       " {'id': '1384448006',\n",
       "  'title': 'Lightweight ingestion script for web sources',\n",
       "  'modified': datetime.datetime(2024, 10, 2, 15, 23, 7, 632000),\n",
       "  'parent': 'Feature Brief: Extensible data sources',\n",
       "  'include': True},\n",
       " {'id': '1404895236',\n",
       "  'title': 'Tech Spec for Implementing Conversation History',\n",
       "  'modified': datetime.datetime(2024, 10, 17, 20, 2, 49, 488000),\n",
       "  'parent': 'Product',\n",
       "  'include': True},\n",
       " {'id': '1417838624',\n",
       "  'title': 'Chatbot versioning strategy',\n",
       "  'modified': datetime.datetime(2024, 10, 24, 22, 37, 40, 771000),\n",
       "  'parent': 'Product',\n",
       "  'include': True},\n",
       " {'id': '1590591516',\n",
       "  'title': 'Tech Spec: Automating QA evaluation pipeline for DST chat',\n",
       "  'modified': datetime.datetime(2025, 1, 28, 18, 32, 43, 385000),\n",
       "  'parent': 'Product',\n",
       "  'include': True},\n",
       " {'id': '1549631705',\n",
       "  'title': '[DRAFT] Tech Spec: Exploration of expert curation for DST evaluation',\n",
       "  'modified': datetime.datetime(2025, 1, 30, 17, 48, 41, 542000),\n",
       "  'parent': 'Product',\n",
       "  'include': True}]"
      ]
     },
     "execution_count": 16,
     "metadata": {},
     "output_type": "execute_result"
    }
   ],
   "source": [
    "ss.pages_response"
   ]
  },
  {
   "cell_type": "code",
   "execution_count": 17,
   "metadata": {},
   "outputs": [],
   "source": [
    "import pandas as pd"
   ]
  },
  {
   "cell_type": "code",
   "execution_count": 18,
   "metadata": {},
   "outputs": [
    {
     "data": {
      "text/html": [
       "<div>\n",
       "<style scoped>\n",
       "    .dataframe tbody tr th:only-of-type {\n",
       "        vertical-align: middle;\n",
       "    }\n",
       "\n",
       "    .dataframe tbody tr th {\n",
       "        vertical-align: top;\n",
       "    }\n",
       "\n",
       "    .dataframe thead th {\n",
       "        text-align: right;\n",
       "    }\n",
       "</style>\n",
       "<table border=\"1\" class=\"dataframe\">\n",
       "  <thead>\n",
       "    <tr style=\"text-align: right;\">\n",
       "      <th></th>\n",
       "      <th>id</th>\n",
       "      <th>title</th>\n",
       "      <th>modified</th>\n",
       "      <th>parent</th>\n",
       "      <th>include</th>\n",
       "    </tr>\n",
       "  </thead>\n",
       "  <tbody>\n",
       "    <tr>\n",
       "      <th>0</th>\n",
       "      <td>927367268</td>\n",
       "      <td>Product</td>\n",
       "      <td>2024-01-22 19:28:16.391</td>\n",
       "      <td>None</td>\n",
       "      <td>False</td>\n",
       "    </tr>\n",
       "    <tr>\n",
       "      <th>1</th>\n",
       "      <td>1203175560</td>\n",
       "      <td>Feature Brief: Extensible data sources</td>\n",
       "      <td>2024-07-02 17:01:35.953</td>\n",
       "      <td>Product</td>\n",
       "      <td>False</td>\n",
       "    </tr>\n",
       "    <tr>\n",
       "      <th>2</th>\n",
       "      <td>1233616975</td>\n",
       "      <td>Tech spec for ingesting policy PDFs</td>\n",
       "      <td>2024-07-18 15:59:35.878</td>\n",
       "      <td>Feature Brief: Extensible data sources</td>\n",
       "      <td>False</td>\n",
       "    </tr>\n",
       "    <tr>\n",
       "      <th>3</th>\n",
       "      <td>1291419695</td>\n",
       "      <td>Evaluation Criteria for PDF-Parsing Tools</td>\n",
       "      <td>2024-08-22 21:12:24.994</td>\n",
       "      <td>Feature Brief: Extensible data sources</td>\n",
       "      <td>False</td>\n",
       "    </tr>\n",
       "    <tr>\n",
       "      <th>4</th>\n",
       "      <td>1305083960</td>\n",
       "      <td>Tech Spec for improving PDF parsing</td>\n",
       "      <td>2024-08-28 19:26:44.862</td>\n",
       "      <td>Feature Brief: Extensible data sources</td>\n",
       "      <td>True</td>\n",
       "    </tr>\n",
       "    <tr>\n",
       "      <th>5</th>\n",
       "      <td>1307967493</td>\n",
       "      <td>Sample inputs and outputs for test cases</td>\n",
       "      <td>2024-08-22 17:27:47.775</td>\n",
       "      <td>Tech Spec for improving PDF parsing</td>\n",
       "      <td>False</td>\n",
       "    </tr>\n",
       "    <tr>\n",
       "      <th>6</th>\n",
       "      <td>1342177290</td>\n",
       "      <td>Tech Spec: Separating Chunks and Citations</td>\n",
       "      <td>2024-09-13 13:54:05.480</td>\n",
       "      <td>Feature Brief: Extensible data sources</td>\n",
       "      <td>True</td>\n",
       "    </tr>\n",
       "    <tr>\n",
       "      <th>7</th>\n",
       "      <td>1384448006</td>\n",
       "      <td>Lightweight ingestion script for web sources</td>\n",
       "      <td>2024-10-02 15:23:07.632</td>\n",
       "      <td>Feature Brief: Extensible data sources</td>\n",
       "      <td>True</td>\n",
       "    </tr>\n",
       "    <tr>\n",
       "      <th>8</th>\n",
       "      <td>1404895236</td>\n",
       "      <td>Tech Spec for Implementing Conversation History</td>\n",
       "      <td>2024-10-17 20:02:49.488</td>\n",
       "      <td>Product</td>\n",
       "      <td>True</td>\n",
       "    </tr>\n",
       "    <tr>\n",
       "      <th>9</th>\n",
       "      <td>1417838624</td>\n",
       "      <td>Chatbot versioning strategy</td>\n",
       "      <td>2024-10-24 22:37:40.771</td>\n",
       "      <td>Product</td>\n",
       "      <td>True</td>\n",
       "    </tr>\n",
       "    <tr>\n",
       "      <th>10</th>\n",
       "      <td>1590591516</td>\n",
       "      <td>Tech Spec: Automating QA evaluation pipeline f...</td>\n",
       "      <td>2025-01-28 18:32:43.385</td>\n",
       "      <td>Product</td>\n",
       "      <td>True</td>\n",
       "    </tr>\n",
       "    <tr>\n",
       "      <th>11</th>\n",
       "      <td>1549631705</td>\n",
       "      <td>[DRAFT] Tech Spec: Exploration of expert curat...</td>\n",
       "      <td>2025-01-30 17:48:41.542</td>\n",
       "      <td>Product</td>\n",
       "      <td>True</td>\n",
       "    </tr>\n",
       "  </tbody>\n",
       "</table>\n",
       "</div>"
      ],
      "text/plain": [
       "            id                                              title  \\\n",
       "0    927367268                                            Product   \n",
       "1   1203175560             Feature Brief: Extensible data sources   \n",
       "2   1233616975                Tech spec for ingesting policy PDFs   \n",
       "3   1291419695          Evaluation Criteria for PDF-Parsing Tools   \n",
       "4   1305083960                Tech Spec for improving PDF parsing   \n",
       "5   1307967493           Sample inputs and outputs for test cases   \n",
       "6   1342177290         Tech Spec: Separating Chunks and Citations   \n",
       "7   1384448006       Lightweight ingestion script for web sources   \n",
       "8   1404895236    Tech Spec for Implementing Conversation History   \n",
       "9   1417838624                        Chatbot versioning strategy   \n",
       "10  1590591516  Tech Spec: Automating QA evaluation pipeline f...   \n",
       "11  1549631705  [DRAFT] Tech Spec: Exploration of expert curat...   \n",
       "\n",
       "                  modified                                  parent  include  \n",
       "0  2024-01-22 19:28:16.391                                    None    False  \n",
       "1  2024-07-02 17:01:35.953                                 Product    False  \n",
       "2  2024-07-18 15:59:35.878  Feature Brief: Extensible data sources    False  \n",
       "3  2024-08-22 21:12:24.994  Feature Brief: Extensible data sources    False  \n",
       "4  2024-08-28 19:26:44.862  Feature Brief: Extensible data sources     True  \n",
       "5  2024-08-22 17:27:47.775     Tech Spec for improving PDF parsing    False  \n",
       "6  2024-09-13 13:54:05.480  Feature Brief: Extensible data sources     True  \n",
       "7  2024-10-02 15:23:07.632  Feature Brief: Extensible data sources     True  \n",
       "8  2024-10-17 20:02:49.488                                 Product     True  \n",
       "9  2024-10-24 22:37:40.771                                 Product     True  \n",
       "10 2025-01-28 18:32:43.385                                 Product     True  \n",
       "11 2025-01-30 17:48:41.542                                 Product     True  "
      ]
     },
     "execution_count": 18,
     "metadata": {},
     "output_type": "execute_result"
    }
   ],
   "source": [
    "df = pd.DataFrame(ss.pages_response)\n",
    "df"
   ]
  },
  {
   "cell_type": "code",
   "execution_count": 19,
   "metadata": {},
   "outputs": [
    {
     "data": {
      "text/html": [
       "<style type=\"text/css\">\n",
       "#T_a79d6_row0_col0, #T_a79d6_row0_col1, #T_a79d6_row0_col2, #T_a79d6_row0_col3, #T_a79d6_row0_col4, #T_a79d6_row1_col0, #T_a79d6_row1_col1, #T_a79d6_row1_col2, #T_a79d6_row1_col3, #T_a79d6_row1_col4, #T_a79d6_row2_col0, #T_a79d6_row2_col1, #T_a79d6_row2_col2, #T_a79d6_row2_col3, #T_a79d6_row2_col4, #T_a79d6_row3_col0, #T_a79d6_row3_col1, #T_a79d6_row3_col2, #T_a79d6_row3_col3, #T_a79d6_row3_col4, #T_a79d6_row5_col0, #T_a79d6_row5_col1, #T_a79d6_row5_col2, #T_a79d6_row5_col3, #T_a79d6_row5_col4 {\n",
       "  background-color: darkgray;\n",
       "}\n",
       "#T_a79d6_row4_col0, #T_a79d6_row4_col1, #T_a79d6_row4_col2, #T_a79d6_row4_col3, #T_a79d6_row4_col4, #T_a79d6_row6_col0, #T_a79d6_row6_col1, #T_a79d6_row6_col2, #T_a79d6_row6_col3, #T_a79d6_row6_col4, #T_a79d6_row7_col0, #T_a79d6_row7_col1, #T_a79d6_row7_col2, #T_a79d6_row7_col3, #T_a79d6_row7_col4, #T_a79d6_row8_col0, #T_a79d6_row8_col1, #T_a79d6_row8_col2, #T_a79d6_row8_col3, #T_a79d6_row8_col4, #T_a79d6_row9_col0, #T_a79d6_row9_col1, #T_a79d6_row9_col2, #T_a79d6_row9_col3, #T_a79d6_row9_col4, #T_a79d6_row10_col0, #T_a79d6_row10_col1, #T_a79d6_row10_col2, #T_a79d6_row10_col3, #T_a79d6_row10_col4, #T_a79d6_row11_col0, #T_a79d6_row11_col1, #T_a79d6_row11_col2, #T_a79d6_row11_col3, #T_a79d6_row11_col4 {\n",
       "  background-color: gray;\n",
       "}\n",
       "</style>\n",
       "<table id=\"T_a79d6\">\n",
       "  <thead>\n",
       "    <tr>\n",
       "      <th class=\"blank level0\" >&nbsp;</th>\n",
       "      <th id=\"T_a79d6_level0_col0\" class=\"col_heading level0 col0\" >id</th>\n",
       "      <th id=\"T_a79d6_level0_col1\" class=\"col_heading level0 col1\" >title</th>\n",
       "      <th id=\"T_a79d6_level0_col2\" class=\"col_heading level0 col2\" >modified</th>\n",
       "      <th id=\"T_a79d6_level0_col3\" class=\"col_heading level0 col3\" >parent</th>\n",
       "      <th id=\"T_a79d6_level0_col4\" class=\"col_heading level0 col4\" >include</th>\n",
       "    </tr>\n",
       "  </thead>\n",
       "  <tbody>\n",
       "    <tr>\n",
       "      <th id=\"T_a79d6_level0_row0\" class=\"row_heading level0 row0\" >0</th>\n",
       "      <td id=\"T_a79d6_row0_col0\" class=\"data row0 col0\" >927367268</td>\n",
       "      <td id=\"T_a79d6_row0_col1\" class=\"data row0 col1\" >Product</td>\n",
       "      <td id=\"T_a79d6_row0_col2\" class=\"data row0 col2\" >2024-01-22 19:28:16.391000</td>\n",
       "      <td id=\"T_a79d6_row0_col3\" class=\"data row0 col3\" >None</td>\n",
       "      <td id=\"T_a79d6_row0_col4\" class=\"data row0 col4\" >False</td>\n",
       "    </tr>\n",
       "    <tr>\n",
       "      <th id=\"T_a79d6_level0_row1\" class=\"row_heading level0 row1\" >1</th>\n",
       "      <td id=\"T_a79d6_row1_col0\" class=\"data row1 col0\" >1203175560</td>\n",
       "      <td id=\"T_a79d6_row1_col1\" class=\"data row1 col1\" >Feature Brief: Extensible data sources</td>\n",
       "      <td id=\"T_a79d6_row1_col2\" class=\"data row1 col2\" >2024-07-02 17:01:35.953000</td>\n",
       "      <td id=\"T_a79d6_row1_col3\" class=\"data row1 col3\" >Product</td>\n",
       "      <td id=\"T_a79d6_row1_col4\" class=\"data row1 col4\" >False</td>\n",
       "    </tr>\n",
       "    <tr>\n",
       "      <th id=\"T_a79d6_level0_row2\" class=\"row_heading level0 row2\" >2</th>\n",
       "      <td id=\"T_a79d6_row2_col0\" class=\"data row2 col0\" >1233616975</td>\n",
       "      <td id=\"T_a79d6_row2_col1\" class=\"data row2 col1\" >Tech spec for ingesting policy PDFs</td>\n",
       "      <td id=\"T_a79d6_row2_col2\" class=\"data row2 col2\" >2024-07-18 15:59:35.878000</td>\n",
       "      <td id=\"T_a79d6_row2_col3\" class=\"data row2 col3\" >Feature Brief: Extensible data sources</td>\n",
       "      <td id=\"T_a79d6_row2_col4\" class=\"data row2 col4\" >False</td>\n",
       "    </tr>\n",
       "    <tr>\n",
       "      <th id=\"T_a79d6_level0_row3\" class=\"row_heading level0 row3\" >3</th>\n",
       "      <td id=\"T_a79d6_row3_col0\" class=\"data row3 col0\" >1291419695</td>\n",
       "      <td id=\"T_a79d6_row3_col1\" class=\"data row3 col1\" >Evaluation Criteria for PDF-Parsing Tools</td>\n",
       "      <td id=\"T_a79d6_row3_col2\" class=\"data row3 col2\" >2024-08-22 21:12:24.994000</td>\n",
       "      <td id=\"T_a79d6_row3_col3\" class=\"data row3 col3\" >Feature Brief: Extensible data sources</td>\n",
       "      <td id=\"T_a79d6_row3_col4\" class=\"data row3 col4\" >False</td>\n",
       "    </tr>\n",
       "    <tr>\n",
       "      <th id=\"T_a79d6_level0_row4\" class=\"row_heading level0 row4\" >4</th>\n",
       "      <td id=\"T_a79d6_row4_col0\" class=\"data row4 col0\" >1305083960</td>\n",
       "      <td id=\"T_a79d6_row4_col1\" class=\"data row4 col1\" >Tech Spec for improving PDF parsing</td>\n",
       "      <td id=\"T_a79d6_row4_col2\" class=\"data row4 col2\" >2024-08-28 19:26:44.862000</td>\n",
       "      <td id=\"T_a79d6_row4_col3\" class=\"data row4 col3\" >Feature Brief: Extensible data sources</td>\n",
       "      <td id=\"T_a79d6_row4_col4\" class=\"data row4 col4\" >True</td>\n",
       "    </tr>\n",
       "    <tr>\n",
       "      <th id=\"T_a79d6_level0_row5\" class=\"row_heading level0 row5\" >5</th>\n",
       "      <td id=\"T_a79d6_row5_col0\" class=\"data row5 col0\" >1307967493</td>\n",
       "      <td id=\"T_a79d6_row5_col1\" class=\"data row5 col1\" >Sample inputs and outputs for test cases</td>\n",
       "      <td id=\"T_a79d6_row5_col2\" class=\"data row5 col2\" >2024-08-22 17:27:47.775000</td>\n",
       "      <td id=\"T_a79d6_row5_col3\" class=\"data row5 col3\" >Tech Spec for improving PDF parsing</td>\n",
       "      <td id=\"T_a79d6_row5_col4\" class=\"data row5 col4\" >False</td>\n",
       "    </tr>\n",
       "    <tr>\n",
       "      <th id=\"T_a79d6_level0_row6\" class=\"row_heading level0 row6\" >6</th>\n",
       "      <td id=\"T_a79d6_row6_col0\" class=\"data row6 col0\" >1342177290</td>\n",
       "      <td id=\"T_a79d6_row6_col1\" class=\"data row6 col1\" >Tech Spec: Separating Chunks and Citations</td>\n",
       "      <td id=\"T_a79d6_row6_col2\" class=\"data row6 col2\" >2024-09-13 13:54:05.480000</td>\n",
       "      <td id=\"T_a79d6_row6_col3\" class=\"data row6 col3\" >Feature Brief: Extensible data sources</td>\n",
       "      <td id=\"T_a79d6_row6_col4\" class=\"data row6 col4\" >True</td>\n",
       "    </tr>\n",
       "    <tr>\n",
       "      <th id=\"T_a79d6_level0_row7\" class=\"row_heading level0 row7\" >7</th>\n",
       "      <td id=\"T_a79d6_row7_col0\" class=\"data row7 col0\" >1384448006</td>\n",
       "      <td id=\"T_a79d6_row7_col1\" class=\"data row7 col1\" >Lightweight ingestion script for web sources</td>\n",
       "      <td id=\"T_a79d6_row7_col2\" class=\"data row7 col2\" >2024-10-02 15:23:07.632000</td>\n",
       "      <td id=\"T_a79d6_row7_col3\" class=\"data row7 col3\" >Feature Brief: Extensible data sources</td>\n",
       "      <td id=\"T_a79d6_row7_col4\" class=\"data row7 col4\" >True</td>\n",
       "    </tr>\n",
       "    <tr>\n",
       "      <th id=\"T_a79d6_level0_row8\" class=\"row_heading level0 row8\" >8</th>\n",
       "      <td id=\"T_a79d6_row8_col0\" class=\"data row8 col0\" >1404895236</td>\n",
       "      <td id=\"T_a79d6_row8_col1\" class=\"data row8 col1\" >Tech Spec for Implementing Conversation History</td>\n",
       "      <td id=\"T_a79d6_row8_col2\" class=\"data row8 col2\" >2024-10-17 20:02:49.488000</td>\n",
       "      <td id=\"T_a79d6_row8_col3\" class=\"data row8 col3\" >Product</td>\n",
       "      <td id=\"T_a79d6_row8_col4\" class=\"data row8 col4\" >True</td>\n",
       "    </tr>\n",
       "    <tr>\n",
       "      <th id=\"T_a79d6_level0_row9\" class=\"row_heading level0 row9\" >9</th>\n",
       "      <td id=\"T_a79d6_row9_col0\" class=\"data row9 col0\" >1417838624</td>\n",
       "      <td id=\"T_a79d6_row9_col1\" class=\"data row9 col1\" >Chatbot versioning strategy</td>\n",
       "      <td id=\"T_a79d6_row9_col2\" class=\"data row9 col2\" >2024-10-24 22:37:40.771000</td>\n",
       "      <td id=\"T_a79d6_row9_col3\" class=\"data row9 col3\" >Product</td>\n",
       "      <td id=\"T_a79d6_row9_col4\" class=\"data row9 col4\" >True</td>\n",
       "    </tr>\n",
       "    <tr>\n",
       "      <th id=\"T_a79d6_level0_row10\" class=\"row_heading level0 row10\" >10</th>\n",
       "      <td id=\"T_a79d6_row10_col0\" class=\"data row10 col0\" >1590591516</td>\n",
       "      <td id=\"T_a79d6_row10_col1\" class=\"data row10 col1\" >Tech Spec: Automating QA evaluation pipeline for DST chat</td>\n",
       "      <td id=\"T_a79d6_row10_col2\" class=\"data row10 col2\" >2025-01-28 18:32:43.385000</td>\n",
       "      <td id=\"T_a79d6_row10_col3\" class=\"data row10 col3\" >Product</td>\n",
       "      <td id=\"T_a79d6_row10_col4\" class=\"data row10 col4\" >True</td>\n",
       "    </tr>\n",
       "    <tr>\n",
       "      <th id=\"T_a79d6_level0_row11\" class=\"row_heading level0 row11\" >11</th>\n",
       "      <td id=\"T_a79d6_row11_col0\" class=\"data row11 col0\" >1549631705</td>\n",
       "      <td id=\"T_a79d6_row11_col1\" class=\"data row11 col1\" >[DRAFT] Tech Spec: Exploration of expert curation for DST evaluation</td>\n",
       "      <td id=\"T_a79d6_row11_col2\" class=\"data row11 col2\" >2025-01-30 17:48:41.542000</td>\n",
       "      <td id=\"T_a79d6_row11_col3\" class=\"data row11 col3\" >Product</td>\n",
       "      <td id=\"T_a79d6_row11_col4\" class=\"data row11 col4\" >True</td>\n",
       "    </tr>\n",
       "  </tbody>\n",
       "</table>\n"
      ],
      "text/plain": [
       "<pandas.io.formats.style.Styler at 0x7a3967fa2990>"
      ]
     },
     "execution_count": 19,
     "metadata": {},
     "output_type": "execute_result"
    }
   ],
   "source": [
    "def page_included(val):\n",
    "    color = 'gray' if val['include'] else 'darkgray'\n",
    "    return [f'background-color: {color}']*len(val)\n",
    "\n",
    "df.style.apply(page_included, axis=1)\n"
   ]
  },
  {
   "cell_type": "code",
   "execution_count": 20,
   "metadata": {},
   "outputs": [],
   "source": [
    "from anytree.search import findall_by_attr, findall"
   ]
  },
  {
   "cell_type": "code",
   "execution_count": 21,
   "metadata": {},
   "outputs": [
    {
     "data": {
      "text/plain": [
       "Node('/927367268', id='927367268', include=False, modified=datetime.datetime(2024, 1, 22, 19, 28, 16, 391000), title='Product')"
      ]
     },
     "execution_count": 21,
     "metadata": {},
     "output_type": "execute_result"
    }
   ],
   "source": [
    "ss.root_node"
   ]
  },
  {
   "cell_type": "code",
   "execution_count": 22,
   "metadata": {},
   "outputs": [
    {
     "data": {
      "text/plain": [
       "(Node('/927367268/1203175560/1305083960', id='1305083960', include=True, modified=datetime.datetime(2024, 8, 28, 19, 26, 44, 862000), title='Tech Spec for improving PDF parsing'),\n",
       " Node('/927367268/1203175560/1342177290', id='1342177290', include=True, modified=datetime.datetime(2024, 9, 13, 13, 54, 5, 480000), title='Tech Spec: Separating Chunks and Citations'),\n",
       " Node('/927367268/1203175560/1384448006', id='1384448006', include=True, modified=datetime.datetime(2024, 10, 2, 15, 23, 7, 632000), title='Lightweight ingestion script for web sources'),\n",
       " Node('/927367268/1404895236', id='1404895236', include=True, modified=datetime.datetime(2024, 10, 17, 20, 2, 49, 488000), title='Tech Spec for Implementing Conversation History'),\n",
       " Node('/927367268/1417838624', id='1417838624', include=True, modified=datetime.datetime(2024, 10, 24, 22, 37, 40, 771000), title='Chatbot versioning strategy'),\n",
       " Node('/927367268/1590591516', id='1590591516', include=True, modified=datetime.datetime(2025, 1, 28, 18, 32, 43, 385000), title='Tech Spec: Automating QA evaluation pipeline for DST chat'),\n",
       " Node('/927367268/1549631705', id='1549631705', include=True, modified=datetime.datetime(2025, 1, 30, 17, 48, 41, 542000), title='[DRAFT] Tech Spec: Exploration of expert curation for DST evaluation'))"
      ]
     },
     "execution_count": 22,
     "metadata": {},
     "output_type": "execute_result"
    }
   ],
   "source": [
    "findall_by_attr(ss.root_node, value=True, name='include')"
   ]
  },
  {
   "cell_type": "code",
   "execution_count": 23,
   "metadata": {},
   "outputs": [
    {
     "data": {
      "text/plain": [
       "['1305083960',\n",
       " '1342177290',\n",
       " '1384448006',\n",
       " '1404895236',\n",
       " '1417838624',\n",
       " '1590591516',\n",
       " '1549631705']"
      ]
     },
     "execution_count": 23,
     "metadata": {},
     "output_type": "execute_result"
    }
   ],
   "source": [
    "[node.id for node in findall(ss.root_node, filter_=lambda n: getattr(n, \"include\", True))]"
   ]
  },
  {
   "cell_type": "code",
   "execution_count": 24,
   "metadata": {},
   "outputs": [
    {
     "data": {
      "text/plain": [
       "[{'label': 'Product', 'value': '927367268'},\n",
       " {'label': 'Product subpages',\n",
       "  'value': 'children_927367268',\n",
       "  'children': [{'label': 'Feature Brief: Extensible data sources',\n",
       "    'value': '1203175560'},\n",
       "   {'label': 'Feature Brief: Extensible data sources subpages',\n",
       "    'value': 'children_1203175560',\n",
       "    'children': [{'label': 'Tech spec for ingesting policy PDFs',\n",
       "      'value': '1233616975'},\n",
       "     {'label': 'Evaluation Criteria for PDF-Parsing Tools',\n",
       "      'value': '1291419695'},\n",
       "     {'label': 'Tech Spec for improving PDF parsing', 'value': '1305083960'},\n",
       "     {'label': 'Tech Spec for improving PDF parsing subpages',\n",
       "      'value': 'children_1305083960',\n",
       "      'children': [{'label': 'Sample inputs and outputs for test cases',\n",
       "        'value': '1307967493'}]},\n",
       "     {'label': 'Tech Spec: Separating Chunks and Citations',\n",
       "      'value': '1342177290'},\n",
       "     {'label': 'Lightweight ingestion script for web sources',\n",
       "      'value': '1384448006'}]},\n",
       "   {'label': 'Tech Spec for Implementing Conversation History',\n",
       "    'value': '1404895236'},\n",
       "   {'label': 'Chatbot versioning strategy', 'value': '1417838624'},\n",
       "   {'label': 'Tech Spec: Automating QA evaluation pipeline for DST chat',\n",
       "    'value': '1590591516'},\n",
       "   {'label': '[DRAFT] Tech Spec: Exploration of expert curation for DST evaluation',\n",
       "    'value': '1549631705'}]}]"
      ]
     },
     "execution_count": 24,
     "metadata": {},
     "output_type": "execute_result"
    }
   ],
   "source": [
    "generate_dict_from_tree(ss.root_node)"
   ]
  },
  {
   "cell_type": "code",
   "execution_count": 25,
   "metadata": {},
   "outputs": [],
   "source": [
    "from anytree import LevelOrderIter"
   ]
  },
  {
   "cell_type": "code",
   "execution_count": 26,
   "metadata": {},
   "outputs": [
    {
     "data": {
      "text/plain": [
       "[{'label': 'Product', 'value': '927367268'},\n",
       " {'label': 'Feature Brief: Extensible data sources', 'value': '1203175560'},\n",
       " {'label': 'Tech Spec for Implementing Conversation History',\n",
       "  'value': '1404895236'},\n",
       " {'label': 'Chatbot versioning strategy', 'value': '1417838624'},\n",
       " {'label': 'Tech Spec: Automating QA evaluation pipeline for DST chat',\n",
       "  'value': '1590591516'},\n",
       " {'label': '[DRAFT] Tech Spec: Exploration of expert curation for DST evaluation',\n",
       "  'value': '1549631705'},\n",
       " {'label': 'Tech spec for ingesting policy PDFs', 'value': '1233616975'},\n",
       " {'label': 'Evaluation Criteria for PDF-Parsing Tools', 'value': '1291419695'},\n",
       " {'label': 'Tech Spec for improving PDF parsing', 'value': '1305083960'},\n",
       " {'label': 'Tech Spec: Separating Chunks and Citations',\n",
       "  'value': '1342177290'},\n",
       " {'label': 'Lightweight ingestion script for web sources',\n",
       "  'value': '1384448006'},\n",
       " {'label': 'Sample inputs and outputs for test cases', 'value': '1307967493'}]"
      ]
     },
     "execution_count": 26,
     "metadata": {},
     "output_type": "execute_result"
    }
   ],
   "source": [
    "[{\"label\": n.title, \"value\": n.id} for n in LevelOrderIter(root_node)]"
   ]
  },
  {
   "cell_type": "code",
   "execution_count": 43,
   "metadata": {},
   "outputs": [],
   "source": []
  },
  {
   "cell_type": "code",
   "execution_count": 32,
   "metadata": {},
   "outputs": [
    {
     "data": {
      "text/plain": [
       "[Node('/927367268/1203175560/1305083960', id='1305083960', include=True, modified=datetime.datetime(2024, 8, 28, 19, 26, 44, 862000), title='Tech Spec for improving PDF parsing'),\n",
       " Node('/927367268/1203175560/1342177290', id='1342177290', include=True, modified=datetime.datetime(2024, 9, 13, 13, 54, 5, 480000), title='Tech Spec: Separating Chunks and Citations'),\n",
       " Node('/927367268/1203175560/1384448006', id='1384448006', include=True, modified=datetime.datetime(2024, 10, 2, 15, 23, 7, 632000), title='Lightweight ingestion script for web sources'),\n",
       " Node('/927367268/1404895236', id='1404895236', include=True, modified=datetime.datetime(2024, 10, 17, 20, 2, 49, 488000), title='Tech Spec for Implementing Conversation History'),\n",
       " Node('/927367268/1417838624', id='1417838624', include=True, modified=datetime.datetime(2024, 10, 24, 22, 37, 40, 771000), title='Chatbot versioning strategy'),\n",
       " Node('/927367268/1590591516', id='1590591516', include=True, modified=datetime.datetime(2025, 1, 28, 18, 32, 43, 385000), title='Tech Spec: Automating QA evaluation pipeline for DST chat'),\n",
       " Node('/927367268/1549631705', id='1549631705', include=True, modified=datetime.datetime(2025, 1, 30, 17, 48, 41, 542000), title='[DRAFT] Tech Spec: Exploration of expert curation for DST evaluation')]"
      ]
     },
     "execution_count": 32,
     "metadata": {},
     "output_type": "execute_result"
    }
   ],
   "source": [
    "[node for node in PreOrderIter(root_node) if node.include]"
   ]
  },
  {
   "cell_type": "code",
   "execution_count": 31,
   "metadata": {},
   "outputs": [
    {
     "name": "stderr",
     "output_type": "stream",
     "text": [
      "INFO:main:Creating folder for page 'Product'\n",
      "INFO:main:Creating folder for page 'Feature Brief: Extensible data sources'\n",
      "INFO:main:Exporting page 'Tech Spec for improving PDF parsing'\n"
     ]
    },
    {
     "name": "stderr",
     "output_type": "stream",
     "text": [
      "INFO:main:Exported page 'htmls/Product/Feature Brief: Extensible data sources/Tech Spec for improving PDF parsing.html'\n",
      "INFO:main:Creating folder for page 'Tech Spec for improving PDF parsing'\n",
      "INFO:main:Exporting page 'Tech Spec: Separating Chunks and Citations'\n",
      "INFO:main:Creating folder for page 'Tech Spec for improving PDF parsing'\n",
      "INFO:main:Exporting page 'Tech Spec: Separating Chunks and Citations'\n",
      "INFO:main:Exported page 'htmls/Product/Feature Brief: Extensible data sources/Tech Spec: Separating Chunks and Citations.html'\n",
      "INFO:main:Exporting page 'Lightweight ingestion script for web sources'\n",
      "INFO:main:Exported page 'htmls/Product/Feature Brief: Extensible data sources/Lightweight ingestion script for web sources.html'\n",
      "INFO:main:Exporting page 'Tech Spec for Implementing Conversation History'\n",
      "INFO:main:Exported page 'htmls/Product/Tech Spec for Implementing Conversation History.html'\n",
      "INFO:main:Exporting page 'Chatbot versioning strategy'\n",
      "INFO:main:Exported page 'htmls/Product/Chatbot versioning strategy.html'\n",
      "INFO:main:Exporting page 'Tech Spec: Automating QA evaluation pipeline for DST chat'\n",
      "INFO:main:Exported page 'htmls/Product/Tech Spec: Automating QA evaluation pipeline for DST chat.html'\n",
      "INFO:main:Exporting page '[DRAFT] Tech Spec: Exploration of expert curation for DST evaluation'\n",
      "INFO:main:Exported page 'htmls/Product/[DRAFT] Tech Spec: Exploration of expert curation for DST evaluation.html'\n"
     ]
    }
   ],
   "source": [
    "import main\n",
    "folder='htmls'\n",
    "main.export_html_folder(ss.root_node, folder)"
   ]
  },
  {
   "cell_type": "code",
   "execution_count": 50,
   "metadata": {},
   "outputs": [
    {
     "data": {
      "text/plain": [
       "['Product']"
      ]
     },
     "execution_count": 50,
     "metadata": {},
     "output_type": "execute_result"
    }
   ],
   "source": [
    "os.listdir(folder)"
   ]
  },
  {
   "cell_type": "code",
   "execution_count": 6,
   "metadata": {},
   "outputs": [],
   "source": [
    "SERVICE_ACCOUNT_FILE = './gdrive_service_account.json'"
   ]
  },
  {
   "cell_type": "code",
   "execution_count": 7,
   "metadata": {},
   "outputs": [],
   "source": [
    "import gdrive_client"
   ]
  },
  {
   "cell_type": "code",
   "execution_count": 8,
   "metadata": {},
   "outputs": [
    {
     "name": "stderr",
     "output_type": "stream",
     "text": [
      "INFO:googleapiclient.discovery_cache:file_cache is only supported with oauth2client<4.0.0\n"
     ]
    }
   ],
   "source": [
    "gclient = gdrive_client.GDriveClient(SERVICE_ACCOUNT_FILE)"
   ]
  },
  {
   "cell_type": "code",
   "execution_count": 9,
   "metadata": {},
   "outputs": [],
   "source": [
    "folder_id = '1IMr0v3azM_8yaxTCkv2tQo22cSArk06Q'"
   ]
  },
  {
   "cell_type": "code",
   "execution_count": 10,
   "metadata": {},
   "outputs": [
    {
     "data": {
      "text/plain": [
       "[{'kind': 'drive#file',\n",
       "  'id': '1GTC953JkDuvB_V_HvJmHlzA8j_hV9acm',\n",
       "  'name': 'e_file',\n",
       "  'mimeType': 'application/vnd.google-apps.folder'},\n",
       " {'kind': 'drive#file',\n",
       "  'id': '1Kuz7iRow3VXwAnNY8pfgC8piv4gAe1yX',\n",
       "  'name': 'Product',\n",
       "  'mimeType': 'application/vnd.google-apps.folder'}]"
      ]
     },
     "execution_count": 10,
     "metadata": {},
     "output_type": "execute_result"
    }
   ],
   "source": [
    "files=gclient.files_in_folder(folder_id)\n",
    "files"
   ]
  },
  {
   "cell_type": "code",
   "execution_count": 15,
   "metadata": {},
   "outputs": [
    {
     "data": {
      "text/plain": [
       "{'kind': 'drive#file',\n",
       " 'id': '1GTC953JkDuvB_V_HvJmHlzA8j_hV9acm',\n",
       " 'name': 'e_file',\n",
       " 'mimeType': 'application/vnd.google-apps.folder'}"
      ]
     },
     "execution_count": 15,
     "metadata": {},
     "output_type": "execute_result"
    }
   ],
   "source": [
    "gclient.create_drive_folder(\"e_file\", folder_id)"
   ]
  },
  {
   "cell_type": "code",
   "execution_count": 12,
   "metadata": {},
   "outputs": [
    {
     "data": {
      "text/plain": [
       "[{'kind': 'drive#file',\n",
       "  'id': '1xtlYE7ekfD8GzcYg04scnCr_UON80K5Q',\n",
       "  'name': 'Feature Brief: Extensible data sources',\n",
       "  'mimeType': 'application/vnd.google-apps.folder'},\n",
       " {'kind': 'drive#file',\n",
       "  'id': '1bG3XNj_BWTXtb44M2LUyc90zGZrn4MriDa8Av85NNdk',\n",
       "  'name': '[DRAFT] Tech Spec: Exploration of expert curation for DST evaluation',\n",
       "  'mimeType': 'application/vnd.google-apps.document'},\n",
       " {'kind': 'drive#file',\n",
       "  'id': '1vArwjyicVgMye2tmzGnGqp3Px84pachPvMhE9uYNuhk',\n",
       "  'name': 'Tech Spec: Automating QA evaluation pipeline for DST chat',\n",
       "  'mimeType': 'application/vnd.google-apps.document'},\n",
       " {'kind': 'drive#file',\n",
       "  'id': '1Bm4DMb-l4MN-2shz09FseZ7k39eDvsxXIXlplquU6U0',\n",
       "  'name': 'Chatbot versioning strategy',\n",
       "  'mimeType': 'application/vnd.google-apps.document'},\n",
       " {'kind': 'drive#file',\n",
       "  'id': '1DcI0AsdrXv-TpYzjkv2pGDKz7G3tgRx_SivrKB2Xoc8',\n",
       "  'name': 'Tech Spec for Implementing Conversation History',\n",
       "  'mimeType': 'application/vnd.google-apps.document'}]"
      ]
     },
     "execution_count": 12,
     "metadata": {},
     "output_type": "execute_result"
    }
   ],
   "source": [
    "existing_gfiles = gclient.files_in_folder(\"1Kuz7iRow3VXwAnNY8pfgC8piv4gAe1yX\")\n",
    "existing_gfiles"
   ]
  },
  {
   "cell_type": "code",
   "execution_count": 34,
   "metadata": {},
   "outputs": [],
   "source": [
    "gfile={'kind': 'drive#file', 'id': '1Jm1nC45RS4jYDtGebCoC7JFJuffHK2dgm1zustEkCic', 'name': 'Feature Brief: Extensible data sources', 'mimeType': 'application/vnd.google-apps.document'}"
   ]
  },
  {
   "cell_type": "code",
   "execution_count": 22,
   "metadata": {},
   "outputs": [],
   "source": [
    "gfile=existing_gfiles[1]\n",
    "local_folder='htmls'\n",
    "file_suffix: str = \".html\""
   ]
  },
  {
   "cell_type": "code",
   "execution_count": 23,
   "metadata": {},
   "outputs": [
    {
     "data": {
      "text/plain": [
       "'Product.html'"
      ]
     },
     "execution_count": 23,
     "metadata": {},
     "output_type": "execute_result"
    }
   ],
   "source": [
    "filename=f\"{gfile['name']}{file_suffix}\"\n",
    "filename"
   ]
  },
  {
   "cell_type": "code",
   "execution_count": 35,
   "metadata": {},
   "outputs": [
    {
     "data": {
      "text/plain": [
       "False"
      ]
     },
     "execution_count": 35,
     "metadata": {},
     "output_type": "execute_result"
    }
   ],
   "source": [
    "\n",
    "main.gfile_exists_locally(gfile, 'htmls/Product', file_suffix=\".html\")"
   ]
  },
  {
   "cell_type": "code",
   "execution_count": 38,
   "metadata": {},
   "outputs": [
    {
     "data": {
      "text/plain": [
       "'Feature Brief: Extensible data sources.html'"
      ]
     },
     "execution_count": 38,
     "metadata": {},
     "output_type": "execute_result"
    }
   ],
   "source": [
    "f\"{gfile['name']}{file_suffix}\""
   ]
  },
  {
   "cell_type": "code",
   "execution_count": 39,
   "metadata": {},
   "outputs": [],
   "source": [
    "local_folder='htmls/Product'\n",
    "full_path = os.path.join(local_folder, filename)"
   ]
  },
  {
   "cell_type": "code",
   "execution_count": 40,
   "metadata": {},
   "outputs": [
    {
     "data": {
      "text/plain": [
       "'htmls/Product/Feature Brief: Extensible data sources.html'"
      ]
     },
     "execution_count": 40,
     "metadata": {},
     "output_type": "execute_result"
    }
   ],
   "source": [
    "full_path"
   ]
  },
  {
   "cell_type": "code",
   "execution_count": 41,
   "metadata": {},
   "outputs": [
    {
     "data": {
      "text/plain": [
       "False"
      ]
     },
     "execution_count": 41,
     "metadata": {},
     "output_type": "execute_result"
    }
   ],
   "source": [
    "os.path.isfile(full_path)"
   ]
  },
  {
   "cell_type": "code",
   "execution_count": 16,
   "metadata": {},
   "outputs": [],
   "source": [
    "import gdrive_client\n",
    "from googleapiclient.http import MediaIoBaseUpload\n",
    "src_file='htmls/Product/[DRAFT] Tech Spec: Exploration of expert curation for DST evaluation.html'\n",
    "file_size = os.path.getsize(src_file)\n",
    "file_extension = os.path.splitext(src_file)[1][1:]\n",
    "media = MediaIoBaseUpload(\n",
    "    open(src_file, mode=\"rb\"),\n",
    "    mimetype=gdrive_client.SUPPORTED_MIME_TYPES[file_extension],\n",
    "    # https://developers.google.com/workspace/drive/api/guides/manage-uploads\n",
    "    resumable=file_size > 5 * 1024 * 1024,  # if larger than 5 MB\n",
    ")\n",
    "request = gclient.files_svc.update(\n",
    "    fileId=\"1bG3XNj_BWTXtb44M2LUyc90zGZrn4MriDa8Av85NNdk\",\n",
    "    media_body=media,\n",
    "    useContentAsIndexableText=True,\n",
    ")"
   ]
  },
  {
   "cell_type": "code",
   "execution_count": 18,
   "metadata": {},
   "outputs": [
    {
     "data": {
      "text/plain": [
       "{'_fd': <_io.BufferedReader name='htmls/Product/[DRAFT] Tech Spec: Exploration of expert curation for DST evaluation.html'>,\n",
       " '_mimetype': 'text/html',\n",
       " '_chunksize': 104857600,\n",
       " '_resumable': False,\n",
       " '_size': 10827}"
      ]
     },
     "execution_count": 18,
     "metadata": {},
     "output_type": "execute_result"
    }
   ],
   "source": [
    "media.__dict__"
   ]
  },
  {
   "cell_type": "code",
   "execution_count": 19,
   "metadata": {},
   "outputs": [
    {
     "data": {
      "text/plain": [
       "{'uri': 'https://www.googleapis.com/upload/drive/v3/files/1bG3XNj_BWTXtb44M2LUyc90zGZrn4MriDa8Av85NNdk?useContentAsIndexableText=true&alt=json&uploadType=media',\n",
       " 'method': 'PATCH',\n",
       " 'body': b'<h4 id=\"id-[DRAFT]TechSpec:ExplorationofexpertcurationforDSTevaluation-References:\">\\n References:\\n</h4>\\n<p>\\n <a data-linked-resource-id=\"1443364876\" data-linked-resource-type=\"page\" data-linked-resource-version=\"10\" href=\"https://navasage.atlassian.net/wiki/spaces/NLACBP1/pages/1443364876/Chatbot+quality+assurance+testing\">\\n  Chatbot quality assurance testing\\n </a>\\n <a data-linked-resource-id=\"1590591516\" data-linked-resource-type=\"page\" data-linked-resource-version=\"10\" href=\"https://navasage.atlassian.net/wiki/spaces/NL/pages/1590591516/Tech+Spec+Automating+QA+evaluation+pipeline+for+DST+chat\">\\n  Tech Spec: Automating QA evaluation pipeline for DST chat\\n </a>\\n</p>\\n<h2 id=\"id-[DRAFT]TechSpec:ExplorationofexpertcurationforDSTevaluation-BusinessNeed\">\\n Business Need\\n</h2>\\n<p>\\n We need a systematic way to evaluate the LLM chatbot\\xe2\\x80\\x99s performance\\xe2\\x80\\x94especially when using Retrieval Augmented Generation (RAG)\\xe2\\x80\\x94to:\\n</p>\\n<ol start=\"1\">\\n <li>\\n  <p>\\n   Guard against regressions by automating tests.\\n  </p>\\n </li>\\n <li>\\n  <p>\\n   Maintain a \\xe2\\x80\\x9cgolden evaluation dataset\\xe2\\x80\\x9d with expected answers and citations.\\n  </p>\\n </li>\\n <li>\\n  <p>\\n   Evaluate single-turn and multi-turn dialogues in a consistent way.\\n  </p>\\n </li>\\n</ol>\\n<p>\\n This document focuses on technical approaches for ground-truthing (i.e., prompt authoring, annotation needs) and compares Label Studio and V7 Labs. We also briefly address how LiteralAI might integrate for tracing/observability.\\n</p>\\n<hr/>\\n<h2 id=\"id-[DRAFT]TechSpec:ExplorationofexpertcurationforDSTevaluation-PlatformCapabilities&amp;Requirements\">\\n Platform Capabilities &amp; Requirements\\n</h2>\\n<ol start=\"1\">\\n <li>\\n  <p>\\n   Single-Turn vs. Multi-Turn Chatbot Context\\n  </p>\\n  <ul>\\n   <li>\\n    <p>\\n     Must handle dataset labeling for both standalone questions and longer conversations with user context across multiple turns.\\n    </p>\\n   </li>\\n   <li>\\n    <p>\\n     Ability to store conversation IDs, timestamps, or states to review how RAG references evolve.\\n    </p>\\n   </li>\\n  </ul>\\n </li>\\n <li>\\n  <p>\\n   RAG-Specific Evaluations\\n  </p>\\n  <ul>\\n   <li>\\n    <p>\\n     System should capture which documents are retrieved for a given prompt.\\n    </p>\\n   </li>\\n   <li>\\n    <p>\\n     Facilitate checks for correctness, faithfulness, and answer relevancy (e.g., measuring hallucination rates).\\n    </p>\\n   </li>\\n  </ul>\\n </li>\\n <li>\\n  <p>\\n   Observability &amp; User Feedback\\n  </p>\\n  <ul>\\n   <li>\\n    <p>\\n     Potentially integrate with a feedback mechanism (e.g., thumbs up/down) using a platform like LiteralAI to track user satisfaction metrics over time.\\n    </p>\\n   </li>\\n  </ul>\\n </li>\\n</ol>\\n<hr/>\\n<h2 id=\"id-[DRAFT]TechSpec:ExplorationofexpertcurationforDSTevaluation-Tools&amp;TechnologiesOverview\">\\n Tools &amp; Technologies Overview\\n</h2>\\n<h3 id=\"id-[DRAFT]TechSpec:ExplorationofexpertcurationforDSTevaluation-LabelStudio\">\\n Label Studio\\n</h3>\\n<p>\\n \\xe2\\x80\\xa2 Open-source annotation platform with templates specifically designed for LLM evaluations and RAG pipelines.\\n <br/>\\n \\xe2\\x80\\xa2 Highly customizable labeling interface, including robust plug-ins for things like \\xe2\\x80\\x9cEvaluate RAG with\\n <a class=\"external-link\" href=\"https://docs.confident-ai.com/docs/metrics-ragas\" rel=\"nofollow\">\\n  Ragas\\n </a>\\n .\\xe2\\x80\\x9d\\n <br/>\\n \\xe2\\x80\\xa2 Actively developed community, flexible integration via REST APIs and Python SDK.\\n</p>\\n<h3 id=\"id-[DRAFT]TechSpec:ExplorationofexpertcurationforDSTevaluation-V7Labs\">\\n V7 Labs\\n</h3>\\n<p>\\n \\xe2\\x80\\xa2 Commercial, full-featured data platform often praised for its user-friendly interface and strong customer support.\\n <br/>\\n \\xe2\\x80\\xa2 Good for enterprise-grade collaboration (multiple annotators, advanced role management).\\n <br/>\\n \\xe2\\x80\\xa2 Specialized more in complex image/video tasks but also supports text annotation.\\n</p>\\n<hr/>\\n<h2 id=\"id-[DRAFT]TechSpec:ExplorationofexpertcurationforDSTevaluation-Comparison\">\\n Comparison\\n</h2>\\n<p>\\n</p>\\n<div class=\"table-wrap\">\\n <table class=\"confluenceTable\" data-layout=\"default\" data-local-id=\"1fc4847e-8fc8-4eb0-a18b-e61fc59eadc4\" data-table-width=\"760\">\\n  <tbody>\\n   <tr>\\n    <th class=\"confluenceTh\">\\n     <p>\\n      Factor\\n     </p>\\n    </th>\\n    <th class=\"confluenceTh\">\\n     <p>\\n      Label Studio\\n     </p>\\n    </th>\\n    <th class=\"confluenceTh\">\\n     <p>\\n      V7 Labs\\n     </p>\\n    </th>\\n   </tr>\\n   <tr>\\n    <td class=\"confluenceTd\">\\n     <p>\\n      Cost &amp; Licensing\\n     </p>\\n    </td>\\n    <td class=\"confluenceTd\">\\n     <p>\\n      Open-source (Community Edition); Paid hosted solutions available\\n     </p>\\n    </td>\\n    <td class=\"confluenceTd\">\\n     <p>\\n      Proprietary, tiered pricing; can be expensive; May be cost-prohibitive for startups/large volume\\n     </p>\\n    </td>\\n   </tr>\\n   <tr>\\n    <td class=\"confluenceTd\">\\n     <p>\\n      Key Use Cases\\n     </p>\\n    </td>\\n    <td class=\"confluenceTd\">\\n     <p>\\n      Broad text-based use, including RAG evaluation, QA, summarization; Can handle single-turn and multi-turn instructions via custom interfaces\\n     </p>\\n    </td>\\n    <td class=\"confluenceTd\">\\n     <p>\\n      Historically stronger with computer vision, but also text support; May require some customization for multi-turn conversation data\\n     </p>\\n    </td>\\n   </tr>\\n   <tr>\\n    <td class=\"confluenceTd\">\\n     <p>\\n      Setup &amp; Configuration\\n     </p>\\n    </td>\\n    <td class=\"confluenceTd\">\\n     <p>\\n      Requires more engineering effort to set up &amp; maintain self-hosted; Highly configurable labeling templates for chat, RAG, RLHF\\n     </p>\\n    </td>\\n    <td class=\"confluenceTd\">\\n     <p>\\n      Generally smoother setup; hosted SaaS model; Out-of-the-box solutions primarily for image/video, text support improving\\n     </p>\\n    </td>\\n   </tr>\\n   <tr>\\n    <td class=\"confluenceTd\">\\n     <p>\\n      Annotation Workflow\\n     </p>\\n    </td>\\n    <td class=\"confluenceTd\">\\n     <p>\\n      Extensible and flexible for any text labeling logic, including multi-turn threads by referencing conversation IDs; Template-driven approach with existing RAG plugins\\n     </p>\\n    </td>\\n    <td class=\"confluenceTd\">\\n     <p>\\n      Polished UI with advanced collaboration features (live multi-annotator); Potentially simpler to train onboarded staff quickly\\n     </p>\\n    </td>\\n   </tr>\\n   <tr>\\n    <td class=\"confluenceTd\">\\n     <p>\\n      Integration with RAG &amp; LLM Pipelines\\n     </p>\\n    </td>\\n    <td class=\"confluenceTd\">\\n     <p>\\n      Official templates for \"Evaluate RAG with Ragas\" or \"LLM Evaluations\"; Python SDK &amp; REST API for custom pipeline integration\\n     </p>\\n    </td>\\n    <td class=\"confluenceTd\">\\n     <p>\\n      Limited direct RAG templates; more manual configuration needed; Good APIs, but text-based RAG might require more dev time or custom solutions\\n     </p>\\n    </td>\\n   </tr>\\n   <tr>\\n    <td class=\"confluenceTd\">\\n     <p>\\n      Community &amp; Support\\n     </p>\\n    </td>\\n    <td class=\"confluenceTd\">\\n     <p>\\n      Large open-source community and Slack channel; Good for troubleshooting via GitHub issues &amp; user forums\\n     </p>\\n    </td>\\n    <td class=\"confluenceTd\">\\n     <p>\\n      Faster enterprise support and dedicated account managers; Possibly more direct help for large enterprise teams\\n     </p>\\n    </td>\\n   </tr>\\n   <tr>\\n    <td class=\"confluenceTd\">\\n     <p>\\n     </p>\\n    </td>\\n    <td class=\"confluenceTd\">\\n     <p>\\n     </p>\\n    </td>\\n    <td class=\"confluenceTd\">\\n     <p>\\n     </p>\\n    </td>\\n   </tr>\\n  </tbody>\\n </table>\\n</div>\\n<p>\\n Note: For capturing real user feedback and QC of RAG responses, both platforms can be integrated with downstream observability tools (like LiteralAI) to track metrics like user satisfaction (thumbs up/down), response latency, and usage patterns.\\n</p>\\n<hr/>\\n<h2 id=\"id-[DRAFT]TechSpec:ExplorationofexpertcurationforDSTevaluation-RecommendationsforSingle-Turnvs.Multi-TurnGround-Truthing\">\\n Recommendations for Single-Turn vs. Multi-Turn Ground-Truthing\\n</h2>\\n<ol start=\"1\">\\n <li>\\n  <p>\\n   Label Studio for More Flexible, Open-Source Setup\\n  </p>\\n  <ul>\\n   <li>\\n    <p>\\n     Ideal if you want to tailor the pipeline heavily for multi-turn dialogues.\\n    </p>\\n   </li>\\n   <li>\\n    <p>\\n     Leverage the existing \\xe2\\x80\\x9cLLM Evaluation\\xe2\\x80\\x9d and \\xe2\\x80\\x9cRAG Evaluation\\xe2\\x80\\x9d templates.\\n    </p>\\n   </li>\\n   <li>\\n    <p>\\n     Utilize a simple conversation schema (with conversation ID, user role, etc.) to track multi-turn data.\\n    </p>\\n   </li>\\n  </ul>\\n </li>\\n <li>\\n  <p>\\n   V7 Labs if You Need Enterprise Support &amp; A Polished UI\\n  </p>\\n  <ul>\\n   <li>\\n    <p>\\n     Rapid onboarding for large annotation teams.\\n    </p>\\n   </li>\\n   <li>\\n    <p>\\n     More direct, professional customer assistance.\\n    </p>\\n   </li>\\n   <li>\\n    <p>\\n     Requires careful scoping and possibly additional cost to handle advanced RAG-based text tasks.\\n    </p>\\n   </li>\\n  </ul>\\n </li>\\n <li>\\n  <p>\\n   Observability via LiteralAI\\n  </p>\\n  <ul>\\n   <li>\\n    <p>\\n     Regardless of Label Studio or V7, feed user interactions and feedback to LiteralAI for holistic performance monitoring.\\n    </p>\\n   </li>\\n   <li>\\n    <p>\\n     Track user satisfaction, latencies, usage trends, etc.\\n    </p>\\n   </li>\\n   <li>\\n    <p>\\n     This approach complements whichever annotation platform is chosen, especially for real-time \\xe2\\x80\\x9cthumbs up/down\\xe2\\x80\\x9d data.\\n    </p>\\n   </li>\\n  </ul>\\n </li>\\n</ol>\\n<hr/>\\n<h2 id=\"id-[DRAFT]TechSpec:ExplorationofexpertcurationforDSTevaluation-ImplementationStrategy\">\\n Implementation Strategy\\n</h2>\\n<ol start=\"1\">\\n <li>\\n  <p>\\n   Choose and Set Up an Annotation Platform (Label Studio, V7)\\n  </p>\\n  <ul>\\n   <li>\\n    <p>\\n     Create a proof-of-concept annotation project specifically for multi-turn LLM QA tasks.\\n    </p>\\n   </li>\\n   <li>\\n    <p>\\n     Configure RAG context retrieval logging (cited document references, snippet IDs, etc.).\\n    </p>\\n   </li>\\n  </ul>\\n </li>\\n <li>\\n  <p>\\n   Integrate Automated Evaluation Pipelines\\n  </p>\\n  <ul>\\n   <li>\\n    <p>\\n     Ingest labeled data for single-turn questions and multi-turn dialogues.\\n    </p>\\n   </li>\\n   <li>\\n    <p>\\n     Compare chatbot output to ground-truth references.\\n    </p>\\n   </li>\\n   <li>\\n    <p>\\n     Generate precision/recall or other metrics (faithfulness, hallucination rates).\\n    </p>\\n   </li>\\n  </ul>\\n </li>\\n <li>\\n  <p>\\n   Observability &amp; Feedback Loop\\n  </p>\\n  <ul>\\n   <li>\\n    <p>\\n     Use or build a simple thumbs up/down in the UI and capture user interaction data in LiteralAI.\\n    </p>\\n   </li>\\n   <li>\\n    <p>\\n     Correlate user feedback with annotation-based accuracy scores.\\n    </p>\\n   </li>\\n  </ul>\\n </li>\\n <li>\\n  <p>\\n   Iteration &amp; Refinement\\n  </p>\\n  <ul>\\n   <li>\\n    <p>\\n     Expand your \\xe2\\x80\\x9cgolden dataset\\xe2\\x80\\x9d over time.\\n    </p>\\n   </li>\\n   <li>\\n    <p>\\n     Periodically refine prompts, chunking strategies, retrieval indexing, etc.\\n    </p>\\n   </li>\\n   <li>\\n    <p>\\n     Evaluate advanced RAG metrics using frameworks like Ragas.\\n    </p>\\n   </li>\\n  </ul>\\n </li>\\n</ol>\\n<hr/>\\n',\n",
       " 'headers': {'accept': 'application/json',\n",
       "  'accept-encoding': 'gzip, deflate',\n",
       "  'user-agent': '(gzip)',\n",
       "  'x-goog-api-client': 'gdcl/2.169.0 gl-python/3.11.10',\n",
       "  'content-type': 'text/html'},\n",
       " 'methodId': 'drive.files.update',\n",
       " 'http': <google_auth_httplib2.AuthorizedHttp at 0x7eaf8ee03790>,\n",
       " 'postproc': <bound method BaseModel.response of <googleapiclient.model.JsonModel object at 0x7eaf8ee03910>>,\n",
       " 'resumable': None,\n",
       " 'response_callbacks': [],\n",
       " '_in_error_state': False,\n",
       " 'body_size': 10827,\n",
       " 'resumable_uri': None,\n",
       " 'resumable_progress': 0,\n",
       " '_rand': <function Random.random()>,\n",
       " '_sleep': <function time.sleep>}"
      ]
     },
     "execution_count": 19,
     "metadata": {},
     "output_type": "execute_result"
    }
   ],
   "source": [
    "request.__dict__"
   ]
  },
  {
   "cell_type": "code",
   "execution_count": 20,
   "metadata": {},
   "outputs": [
    {
     "data": {
      "text/plain": [
       "{'kind': 'drive#file',\n",
       " 'id': '1bG3XNj_BWTXtb44M2LUyc90zGZrn4MriDa8Av85NNdk',\n",
       " 'name': '[DRAFT] Tech Spec: Exploration of expert curation for DST evaluation',\n",
       " 'mimeType': 'application/vnd.google-apps.document'}"
      ]
     },
     "execution_count": 20,
     "metadata": {},
     "output_type": "execute_result"
    }
   ],
   "source": [
    "request.execute()"
   ]
  },
  {
   "cell_type": "code",
   "execution_count": null,
   "metadata": {},
   "outputs": [],
   "source": []
  },
  {
   "cell_type": "code",
   "execution_count": 14,
   "metadata": {},
   "outputs": [
    {
     "name": "stderr",
     "output_type": "stream",
     "text": [
      "INFO:main:Checking {'kind': 'drive#file', 'id': '1GTC953JkDuvB_V_HvJmHlzA8j_hV9acm', 'name': 'e_file', 'mimeType': 'application/vnd.google-apps.folder'}\n",
      "INFO:main:Checking {'kind': 'drive#file', 'id': '1Kuz7iRow3VXwAnNY8pfgC8piv4gAe1yX', 'name': 'Product', 'mimeType': 'application/vnd.google-apps.folder'}\n",
      "INFO:main:Existing gfiles: {}\n",
      "INFO:main:Existing gfolders: {'e_file': {'kind': 'drive#file', 'id': '1GTC953JkDuvB_V_HvJmHlzA8j_hV9acm', 'name': 'e_file', 'mimeType': 'application/vnd.google-apps.folder'}, 'Product': {'kind': 'drive#file', 'id': '1Kuz7iRow3VXwAnNY8pfgC8piv4gAe1yX', 'name': 'Product', 'mimeType': 'application/vnd.google-apps.folder'}}\n",
      "INFO:main:Files in folder: ['Product']\n",
      "INFO:main:Checking {'kind': 'drive#file', 'id': '1Kuz7iRow3VXwAnNY8pfgC8piv4gAe1yX', 'name': 'Product', 'mimeType': 'application/vnd.google-apps.folder'}\n",
      "INFO:main:Existing gfiles: {}\n",
      "INFO:main:Existing gfolders: {'e_file': {'kind': 'drive#file', 'id': '1GTC953JkDuvB_V_HvJmHlzA8j_hV9acm', 'name': 'e_file', 'mimeType': 'application/vnd.google-apps.folder'}, 'Product': {'kind': 'drive#file', 'id': '1Kuz7iRow3VXwAnNY8pfgC8piv4gAe1yX', 'name': 'Product', 'mimeType': 'application/vnd.google-apps.folder'}}\n",
      "INFO:main:Files in folder: ['Product']\n",
      "INFO:main:Recurse into folder 'Product'\n",
      "INFO:main:Checking {'kind': 'drive#file', 'id': '1DcI0AsdrXv-TpYzjkv2pGDKz7G3tgRx_SivrKB2Xoc8', 'name': 'Tech Spec for Implementing Conversation History', 'mimeType': 'application/vnd.google-apps.document'}\n",
      "INFO:main:Checking {'kind': 'drive#file', 'id': '1bG3XNj_BWTXtb44M2LUyc90zGZrn4MriDa8Av85NNdk', 'name': '[DRAFT] Tech Spec: Exploration of expert curation for DST evaluation', 'mimeType': 'application/vnd.google-apps.document'}\n",
      "INFO:main:Checking {'kind': 'drive#file', 'id': '1xtlYE7ekfD8GzcYg04scnCr_UON80K5Q', 'name': 'Feature Brief: Extensible data sources', 'mimeType': 'application/vnd.google-apps.folder'}\n",
      "INFO:main:Checking {'kind': 'drive#file', 'id': '1vArwjyicVgMye2tmzGnGqp3Px84pachPvMhE9uYNuhk', 'name': 'Tech Spec: Automating QA evaluation pipeline for DST chat', 'mimeType': 'application/vnd.google-apps.document'}\n",
      "INFO:main:Checking {'kind': 'drive#file', 'id': '1Bm4DMb-l4MN-2shz09FseZ7k39eDvsxXIXlplquU6U0', 'name': 'Chatbot versioning strategy', 'mimeType': 'application/vnd.google-apps.document'}\n",
      "INFO:main:Existing gfiles: {'Tech Spec for Implementing Conversation History': {'kind': 'drive#file', 'id': '1DcI0AsdrXv-TpYzjkv2pGDKz7G3tgRx_SivrKB2Xoc8', 'name': 'Tech Spec for Implementing Conversation History', 'mimeType': 'application/vnd.google-apps.document'}, '[DRAFT] Tech Spec: Exploration of expert curation for DST evaluation': {'kind': 'drive#file', 'id': '1bG3XNj_BWTXtb44M2LUyc90zGZrn4MriDa8Av85NNdk', 'name': '[DRAFT] Tech Spec: Exploration of expert curation for DST evaluation', 'mimeType': 'application/vnd.google-apps.document'}, 'Tech Spec: Automating QA evaluation pipeline for DST chat': {'kind': 'drive#file', 'id': '1vArwjyicVgMye2tmzGnGqp3Px84pachPvMhE9uYNuhk', 'name': 'Tech Spec: Automating QA evaluation pipeline for DST chat', 'mimeType': 'application/vnd.google-apps.document'}, 'Chatbot versioning strategy': {'kind': 'drive#file', 'id': '1Bm4DMb-l4MN-2shz09FseZ7k39eDvsxXIXlplquU6U0', 'name': 'Chatbot versioning strategy', 'mimeType': 'application/vnd.google-apps.document'}}\n",
      "INFO:main:Existing gfolders: {'Feature Brief: Extensible data sources': {'kind': 'drive#file', 'id': '1xtlYE7ekfD8GzcYg04scnCr_UON80K5Q', 'name': 'Feature Brief: Extensible data sources', 'mimeType': 'application/vnd.google-apps.folder'}}\n",
      "INFO:main:Files in folder: ['[DRAFT] Tech Spec: Exploration of expert curation for DST evaluation.html', 'Tech Spec for Implementing Conversation History.html', 'Feature Brief: Extensible data sources', 'Tech Spec: Automating QA evaluation pipeline for DST chat.html', 'Chatbot versioning strategy.html']\n",
      "INFO:main:title '[DRAFT] Tech Spec: Exploration of expert curation for DST evaluation'\n",
      "INFO:main:  Updating '[DRAFT] Tech Spec: Exploration of expert curation for DST evaluation' in GDrive\n",
      "INFO:gdrive_client:src_file='htmls/Product/[DRAFT] Tech Spec: Exploration of expert curation for DST evaluation.html': {'_fd': <_io.BufferedReader name='htmls/Product/[DRAFT] Tech Spec: Exploration of expert curation for DST evaluation.html'>, '_mimetype': 'text/html', '_chunksize': 104857600, '_resumable': False, '_size': 10827}\n",
      "INFO:gdrive_client:file_id: '1bG3XNj_BWTXtb44M2LUyc90zGZrn4MriDa8Av85NNdk'\n",
      "INFO:main:title 'Tech Spec for Implementing Conversation History'\n",
      "INFO:main:  Updating 'Tech Spec for Implementing Conversation History' in GDrive\n",
      "INFO:gdrive_client:src_file='htmls/Product/Tech Spec for Implementing Conversation History.html': {'_fd': <_io.BufferedReader name='htmls/Product/Tech Spec for Implementing Conversation History.html'>, '_mimetype': 'text/html', '_chunksize': 104857600, '_resumable': False, '_size': 6250}\n",
      "INFO:gdrive_client:file_id: '1DcI0AsdrXv-TpYzjkv2pGDKz7G3tgRx_SivrKB2Xoc8'\n",
      "INFO:main:Recurse into folder 'Feature Brief: Extensible data sources'\n",
      "INFO:main:Checking {'kind': 'drive#file', 'id': '1ltknVsW8Kekxt7vmldQVQJhWIUNHGP4rCVy-YU_n1Oo', 'name': 'Tech Spec for improving PDF parsing', 'mimeType': 'application/vnd.google-apps.document'}\n",
      "INFO:main:Checking {'kind': 'drive#file', 'id': '1CnjBiOqp8SS6Z3YHntOzQCDZTJq89Au_Jev3Ru3wQE0', 'name': 'Tech Spec: Separating Chunks and Citations', 'mimeType': 'application/vnd.google-apps.document'}\n",
      "INFO:main:Checking {'kind': 'drive#file', 'id': '1rcc8pY0YqhAbZviUBdPKm8fF10uW1SYeyfSxv9694h4', 'name': 'Lightweight ingestion script for web sources', 'mimeType': 'application/vnd.google-apps.document'}\n",
      "INFO:main:Checking {'kind': 'drive#file', 'id': '1qcOQ6hn2Fm0q3KtLSA5mbVHOkeSRcZSs', 'name': 'Tech Spec for improving PDF parsing', 'mimeType': 'application/vnd.google-apps.folder'}\n",
      "INFO:main:Existing gfiles: {'Tech Spec for improving PDF parsing': {'kind': 'drive#file', 'id': '1ltknVsW8Kekxt7vmldQVQJhWIUNHGP4rCVy-YU_n1Oo', 'name': 'Tech Spec for improving PDF parsing', 'mimeType': 'application/vnd.google-apps.document'}, 'Tech Spec: Separating Chunks and Citations': {'kind': 'drive#file', 'id': '1CnjBiOqp8SS6Z3YHntOzQCDZTJq89Au_Jev3Ru3wQE0', 'name': 'Tech Spec: Separating Chunks and Citations', 'mimeType': 'application/vnd.google-apps.document'}, 'Lightweight ingestion script for web sources': {'kind': 'drive#file', 'id': '1rcc8pY0YqhAbZviUBdPKm8fF10uW1SYeyfSxv9694h4', 'name': 'Lightweight ingestion script for web sources', 'mimeType': 'application/vnd.google-apps.document'}}\n",
      "INFO:main:Existing gfolders: {'Tech Spec for improving PDF parsing': {'kind': 'drive#file', 'id': '1qcOQ6hn2Fm0q3KtLSA5mbVHOkeSRcZSs', 'name': 'Tech Spec for improving PDF parsing', 'mimeType': 'application/vnd.google-apps.folder'}}\n",
      "INFO:main:Files in folder: ['Lightweight ingestion script for web sources.html', 'Tech Spec: Separating Chunks and Citations.html', 'Tech Spec for improving PDF parsing.html', 'Tech Spec for improving PDF parsing']\n",
      "INFO:main:title 'Lightweight ingestion script for web sources'\n",
      "INFO:main:  Updating 'Lightweight ingestion script for web sources' in GDrive\n",
      "INFO:gdrive_client:src_file='htmls/Product/Feature Brief: Extensible data sources/Lightweight ingestion script for web sources.html': {'_fd': <_io.BufferedReader name='htmls/Product/Feature Brief: Extensible data sources/Lightweight ingestion script for web sources.html'>, '_mimetype': 'text/html', '_chunksize': 104857600, '_resumable': False, '_size': 3207}\n",
      "INFO:gdrive_client:file_id: '1rcc8pY0YqhAbZviUBdPKm8fF10uW1SYeyfSxv9694h4'\n",
      "INFO:main:title 'Tech Spec: Separating Chunks and Citations'\n",
      "INFO:main:  Updating 'Tech Spec: Separating Chunks and Citations' in GDrive\n",
      "INFO:gdrive_client:src_file='htmls/Product/Feature Brief: Extensible data sources/Tech Spec: Separating Chunks and Citations.html': {'_fd': <_io.BufferedReader name='htmls/Product/Feature Brief: Extensible data sources/Tech Spec: Separating Chunks and Citations.html'>, '_mimetype': 'text/html', '_chunksize': 104857600, '_resumable': False, '_size': 6903}\n",
      "INFO:gdrive_client:file_id: '1CnjBiOqp8SS6Z3YHntOzQCDZTJq89Au_Jev3Ru3wQE0'\n",
      "INFO:main:title 'Tech Spec for improving PDF parsing'\n",
      "INFO:main:  Updating 'Tech Spec for improving PDF parsing' in GDrive\n",
      "INFO:gdrive_client:src_file='htmls/Product/Feature Brief: Extensible data sources/Tech Spec for improving PDF parsing.html': {'_fd': <_io.BufferedReader name='htmls/Product/Feature Brief: Extensible data sources/Tech Spec for improving PDF parsing.html'>, '_mimetype': 'text/html', '_chunksize': 104857600, '_resumable': False, '_size': 54811}\n",
      "INFO:gdrive_client:file_id: '1ltknVsW8Kekxt7vmldQVQJhWIUNHGP4rCVy-YU_n1Oo'\n",
      "INFO:main:Recurse into folder 'Tech Spec for improving PDF parsing'\n",
      "INFO:main:Existing gfiles: {}\n",
      "INFO:main:Existing gfolders: {}\n",
      "INFO:main:Files in folder: []\n",
      "INFO:main:title 'Tech Spec: Automating QA evaluation pipeline for DST chat'\n",
      "INFO:main:  Updating 'Tech Spec: Automating QA evaluation pipeline for DST chat' in GDrive\n",
      "INFO:gdrive_client:src_file='htmls/Product/Tech Spec: Automating QA evaluation pipeline for DST chat.html': {'_fd': <_io.BufferedReader name='htmls/Product/Tech Spec: Automating QA evaluation pipeline for DST chat.html'>, '_mimetype': 'text/html', '_chunksize': 104857600, '_resumable': False, '_size': 20938}\n",
      "INFO:gdrive_client:file_id: '1vArwjyicVgMye2tmzGnGqp3Px84pachPvMhE9uYNuhk'\n",
      "INFO:main:title 'Chatbot versioning strategy'\n",
      "INFO:main:  Updating 'Chatbot versioning strategy' in GDrive\n",
      "INFO:gdrive_client:src_file='htmls/Product/Chatbot versioning strategy.html': {'_fd': <_io.BufferedReader name='htmls/Product/Chatbot versioning strategy.html'>, '_mimetype': 'text/html', '_chunksize': 104857600, '_resumable': False, '_size': 5326}\n",
      "INFO:gdrive_client:file_id: '1Bm4DMb-l4MN-2shz09FseZ7k39eDvsxXIXlplquU6U0'\n"
     ]
    }
   ],
   "source": [
    "import main\n",
    "folder='htmls'\n",
    "main.sync_folder_to_gdrive(gclient, folder, folder_id, delete_gfiles=True, dry_run=not True)"
   ]
  },
  {
   "cell_type": "code",
   "execution_count": null,
   "metadata": {},
   "outputs": [],
   "source": []
  },
  {
   "cell_type": "code",
   "execution_count": 2,
   "metadata": {},
   "outputs": [],
   "source": [
    "from streamlit_file_browser import PREVIEW_HANDLERS"
   ]
  },
  {
   "cell_type": "code",
   "execution_count": 3,
   "metadata": {},
   "outputs": [
    {
     "data": {
      "text/plain": [
       "{'.pdb': <function streamlit_file_browser._do_molecule_preview(root, file_path, url, **kwargs)>,\n",
       " '.pdbqt': <function streamlit_file_browser._do_molecule_preview(root, file_path, url, **kwargs)>,\n",
       " '.ent': <function streamlit_file_browser._do_molecule_preview(root, file_path, url, **kwargs)>,\n",
       " '.trr': <function streamlit_file_browser._do_molecule_preview(root, file_path, url, **kwargs)>,\n",
       " '.nctraj': <function streamlit_file_browser._do_molecule_preview(root, file_path, url, **kwargs)>,\n",
       " '.nc': <function streamlit_file_browser._do_molecule_preview(root, file_path, url, **kwargs)>,\n",
       " '.ply': <function streamlit_file_browser._do_molecule_preview(root, file_path, url, **kwargs)>,\n",
       " '.bcif': <function streamlit_file_browser._do_molecule_preview(root, file_path, url, **kwargs)>,\n",
       " '.sdf': <function streamlit_file_browser._do_molecule_preview(root, file_path, url, **kwargs)>,\n",
       " '.cif': <function streamlit_file_browser._do_molecule_preview(root, file_path, url, **kwargs)>,\n",
       " '.mol': <function streamlit_file_browser._do_molecule_preview(root, file_path, url, **kwargs)>,\n",
       " '.mol2': <function streamlit_file_browser._do_molecule_preview(root, file_path, url, **kwargs)>,\n",
       " '.xyz': <function streamlit_file_browser._do_molecule_preview(root, file_path, url, **kwargs)>,\n",
       " '.sd': <function streamlit_file_browser._do_molecule_preview(root, file_path, url, **kwargs)>,\n",
       " '.gro': <function streamlit_file_browser._do_molecule_preview(root, file_path, url, **kwargs)>,\n",
       " '.mrc': functools.partial(<function _do_molecule_preview at 0x7fc6b0171580>, use_auto=True),\n",
       " '.json': <function streamlit_file_browser._do_json_preview(root, file_path, url, **kwargs)>,\n",
       " '.pdf': <function streamlit_file_browser._do_pdf_preview(root, file_path, url, height='420px', **kwargs)>,\n",
       " '.csv': <function streamlit_file_browser._do_csv_preview(root, file_path, url, **kwargs)>,\n",
       " '.tsv': <function streamlit_file_browser._do_tsv_preview(root, file_path, url, **kwargs)>,\n",
       " '.log': <function streamlit_file_browser._do_plain_preview(root, file_path, url, **kwargs)>,\n",
       " '.txt': <function streamlit_file_browser._do_plain_preview(root, file_path, url, **kwargs)>,\n",
       " '.md': <function streamlit_file_browser._do_markdown_preview(root, file_path, url, **kwargs)>,\n",
       " '.upf': <function streamlit_file_browser._do_plain_preview(root, file_path, url, **kwargs)>,\n",
       " '.UPF': <function streamlit_file_browser._do_plain_preview(root, file_path, url, **kwargs)>,\n",
       " '.orb': <function streamlit_file_browser._do_plain_preview(root, file_path, url, **kwargs)>,\n",
       " '.py': <function streamlit_file_browser._do_code_preview(root, file_path, url, **kwargs)>,\n",
       " '.sh': <function streamlit_file_browser._do_code_preview(root, file_path, url, **kwargs)>,\n",
       " '.html': <function streamlit_file_browser._do_html_preview(root, file_path, url, **kwargs)>,\n",
       " '.htm': <function streamlit_file_browser._do_html_preview(root, file_path, url, **kwargs)>,\n",
       " '.dbn': <function streamlit_file_browser._do_dbn_preview(root, file_path, url, **kwargs)>}"
      ]
     },
     "execution_count": 3,
     "metadata": {},
     "output_type": "execute_result"
    }
   ],
   "source": [
    "PREVIEW_HANDLERS"
   ]
  },
  {
   "cell_type": "code",
   "execution_count": 5,
   "metadata": {},
   "outputs": [
    {
     "data": {
      "text/html": [
       "<div>\n",
       "<style scoped>\n",
       "    .dataframe tbody tr th:only-of-type {\n",
       "        vertical-align: middle;\n",
       "    }\n",
       "\n",
       "    .dataframe tbody tr th {\n",
       "        vertical-align: top;\n",
       "    }\n",
       "\n",
       "    .dataframe thead th {\n",
       "        text-align: right;\n",
       "    }\n",
       "</style>\n",
       "<table border=\"1\" class=\"dataframe\">\n",
       "  <thead>\n",
       "    <tr style=\"text-align: right;\">\n",
       "      <th></th>\n",
       "      <th>A</th>\n",
       "      <th>B</th>\n",
       "      <th>C</th>\n",
       "    </tr>\n",
       "  </thead>\n",
       "  <tbody>\n",
       "    <tr>\n",
       "      <th>0</th>\n",
       "      <td>-0.691819</td>\n",
       "      <td>-0.797666</td>\n",
       "      <td>-2.376614</td>\n",
       "    </tr>\n",
       "    <tr>\n",
       "      <th>1</th>\n",
       "      <td>0.648541</td>\n",
       "      <td>-0.042215</td>\n",
       "      <td>-0.176011</td>\n",
       "    </tr>\n",
       "    <tr>\n",
       "      <th>2</th>\n",
       "      <td>-0.489857</td>\n",
       "      <td>-0.676773</td>\n",
       "      <td>-0.539762</td>\n",
       "    </tr>\n",
       "    <tr>\n",
       "      <th>3</th>\n",
       "      <td>0.596308</td>\n",
       "      <td>-0.230542</td>\n",
       "      <td>1.687354</td>\n",
       "    </tr>\n",
       "    <tr>\n",
       "      <th>4</th>\n",
       "      <td>0.304130</td>\n",
       "      <td>-0.656755</td>\n",
       "      <td>-1.188866</td>\n",
       "    </tr>\n",
       "    <tr>\n",
       "      <th>5</th>\n",
       "      <td>1.350458</td>\n",
       "      <td>-1.336766</td>\n",
       "      <td>-0.020355</td>\n",
       "    </tr>\n",
       "    <tr>\n",
       "      <th>6</th>\n",
       "      <td>-1.180188</td>\n",
       "      <td>-1.603883</td>\n",
       "      <td>-0.722904</td>\n",
       "    </tr>\n",
       "    <tr>\n",
       "      <th>7</th>\n",
       "      <td>-0.449046</td>\n",
       "      <td>0.765448</td>\n",
       "      <td>0.547130</td>\n",
       "    </tr>\n",
       "    <tr>\n",
       "      <th>8</th>\n",
       "      <td>-0.693786</td>\n",
       "      <td>0.354680</td>\n",
       "      <td>2.756686</td>\n",
       "    </tr>\n",
       "    <tr>\n",
       "      <th>9</th>\n",
       "      <td>-0.676696</td>\n",
       "      <td>0.471614</td>\n",
       "      <td>0.828872</td>\n",
       "    </tr>\n",
       "    <tr>\n",
       "      <th>10</th>\n",
       "      <td>0.209685</td>\n",
       "      <td>1.284822</td>\n",
       "      <td>1.160256</td>\n",
       "    </tr>\n",
       "    <tr>\n",
       "      <th>11</th>\n",
       "      <td>-0.118075</td>\n",
       "      <td>0.990178</td>\n",
       "      <td>0.919867</td>\n",
       "    </tr>\n",
       "    <tr>\n",
       "      <th>12</th>\n",
       "      <td>-0.920366</td>\n",
       "      <td>-0.315541</td>\n",
       "      <td>1.272367</td>\n",
       "    </tr>\n",
       "    <tr>\n",
       "      <th>13</th>\n",
       "      <td>0.069488</td>\n",
       "      <td>0.359858</td>\n",
       "      <td>0.001217</td>\n",
       "    </tr>\n",
       "    <tr>\n",
       "      <th>14</th>\n",
       "      <td>0.126744</td>\n",
       "      <td>-1.891434</td>\n",
       "      <td>0.408895</td>\n",
       "    </tr>\n",
       "  </tbody>\n",
       "</table>\n",
       "</div>"
      ],
      "text/plain": [
       "           A         B         C\n",
       "0  -0.691819 -0.797666 -2.376614\n",
       "1   0.648541 -0.042215 -0.176011\n",
       "2  -0.489857 -0.676773 -0.539762\n",
       "3   0.596308 -0.230542  1.687354\n",
       "4   0.304130 -0.656755 -1.188866\n",
       "5   1.350458 -1.336766 -0.020355\n",
       "6  -1.180188 -1.603883 -0.722904\n",
       "7  -0.449046  0.765448  0.547130\n",
       "8  -0.693786  0.354680  2.756686\n",
       "9  -0.676696  0.471614  0.828872\n",
       "10  0.209685  1.284822  1.160256\n",
       "11 -0.118075  0.990178  0.919867\n",
       "12 -0.920366 -0.315541  1.272367\n",
       "13  0.069488  0.359858  0.001217\n",
       "14  0.126744 -1.891434  0.408895"
      ]
     },
     "execution_count": 5,
     "metadata": {},
     "output_type": "execute_result"
    }
   ],
   "source": [
    "import pandas as pd\n",
    "import numpy as np\n",
    "df = pd.DataFrame(np.random.randn(15, 3), columns=([\"A\", \"B\", \"C\"]))\n",
    "df"
   ]
  },
  {
   "cell_type": "code",
   "execution_count": 10,
   "metadata": {},
   "outputs": [],
   "source": [
    "df.loc[df['A']<10,'A']=0"
   ]
  },
  {
   "cell_type": "code",
   "execution_count": 9,
   "metadata": {},
   "outputs": [
    {
     "data": {
      "text/plain": [
       "0     False\n",
       "1     False\n",
       "2     False\n",
       "3     False\n",
       "4     False\n",
       "5     False\n",
       "6     False\n",
       "7     False\n",
       "8     False\n",
       "9     False\n",
       "10    False\n",
       "11    False\n",
       "12    False\n",
       "13    False\n",
       "14    False\n",
       "Name: A, dtype: bool"
      ]
     },
     "execution_count": 9,
     "metadata": {},
     "output_type": "execute_result"
    }
   ],
   "source": [
    "df['A']>10"
   ]
  },
  {
   "cell_type": "code",
   "execution_count": 11,
   "metadata": {},
   "outputs": [
    {
     "data": {
      "text/html": [
       "<div>\n",
       "<style scoped>\n",
       "    .dataframe tbody tr th:only-of-type {\n",
       "        vertical-align: middle;\n",
       "    }\n",
       "\n",
       "    .dataframe tbody tr th {\n",
       "        vertical-align: top;\n",
       "    }\n",
       "\n",
       "    .dataframe thead th {\n",
       "        text-align: right;\n",
       "    }\n",
       "</style>\n",
       "<table border=\"1\" class=\"dataframe\">\n",
       "  <thead>\n",
       "    <tr style=\"text-align: right;\">\n",
       "      <th></th>\n",
       "      <th>A</th>\n",
       "      <th>B</th>\n",
       "      <th>C</th>\n",
       "    </tr>\n",
       "  </thead>\n",
       "  <tbody>\n",
       "    <tr>\n",
       "      <th>0</th>\n",
       "      <td>0.0</td>\n",
       "      <td>-0.797666</td>\n",
       "      <td>-2.376614</td>\n",
       "    </tr>\n",
       "    <tr>\n",
       "      <th>1</th>\n",
       "      <td>0.0</td>\n",
       "      <td>-0.042215</td>\n",
       "      <td>-0.176011</td>\n",
       "    </tr>\n",
       "    <tr>\n",
       "      <th>2</th>\n",
       "      <td>0.0</td>\n",
       "      <td>-0.676773</td>\n",
       "      <td>-0.539762</td>\n",
       "    </tr>\n",
       "    <tr>\n",
       "      <th>3</th>\n",
       "      <td>0.0</td>\n",
       "      <td>-0.230542</td>\n",
       "      <td>1.687354</td>\n",
       "    </tr>\n",
       "    <tr>\n",
       "      <th>4</th>\n",
       "      <td>0.0</td>\n",
       "      <td>-0.656755</td>\n",
       "      <td>-1.188866</td>\n",
       "    </tr>\n",
       "    <tr>\n",
       "      <th>5</th>\n",
       "      <td>0.0</td>\n",
       "      <td>-1.336766</td>\n",
       "      <td>-0.020355</td>\n",
       "    </tr>\n",
       "    <tr>\n",
       "      <th>6</th>\n",
       "      <td>0.0</td>\n",
       "      <td>-1.603883</td>\n",
       "      <td>-0.722904</td>\n",
       "    </tr>\n",
       "    <tr>\n",
       "      <th>7</th>\n",
       "      <td>0.0</td>\n",
       "      <td>0.765448</td>\n",
       "      <td>0.547130</td>\n",
       "    </tr>\n",
       "    <tr>\n",
       "      <th>8</th>\n",
       "      <td>0.0</td>\n",
       "      <td>0.354680</td>\n",
       "      <td>2.756686</td>\n",
       "    </tr>\n",
       "    <tr>\n",
       "      <th>9</th>\n",
       "      <td>0.0</td>\n",
       "      <td>0.471614</td>\n",
       "      <td>0.828872</td>\n",
       "    </tr>\n",
       "    <tr>\n",
       "      <th>10</th>\n",
       "      <td>0.0</td>\n",
       "      <td>1.284822</td>\n",
       "      <td>1.160256</td>\n",
       "    </tr>\n",
       "    <tr>\n",
       "      <th>11</th>\n",
       "      <td>0.0</td>\n",
       "      <td>0.990178</td>\n",
       "      <td>0.919867</td>\n",
       "    </tr>\n",
       "    <tr>\n",
       "      <th>12</th>\n",
       "      <td>0.0</td>\n",
       "      <td>-0.315541</td>\n",
       "      <td>1.272367</td>\n",
       "    </tr>\n",
       "    <tr>\n",
       "      <th>13</th>\n",
       "      <td>0.0</td>\n",
       "      <td>0.359858</td>\n",
       "      <td>0.001217</td>\n",
       "    </tr>\n",
       "    <tr>\n",
       "      <th>14</th>\n",
       "      <td>0.0</td>\n",
       "      <td>-1.891434</td>\n",
       "      <td>0.408895</td>\n",
       "    </tr>\n",
       "  </tbody>\n",
       "</table>\n",
       "</div>"
      ],
      "text/plain": [
       "      A         B         C\n",
       "0   0.0 -0.797666 -2.376614\n",
       "1   0.0 -0.042215 -0.176011\n",
       "2   0.0 -0.676773 -0.539762\n",
       "3   0.0 -0.230542  1.687354\n",
       "4   0.0 -0.656755 -1.188866\n",
       "5   0.0 -1.336766 -0.020355\n",
       "6   0.0 -1.603883 -0.722904\n",
       "7   0.0  0.765448  0.547130\n",
       "8   0.0  0.354680  2.756686\n",
       "9   0.0  0.471614  0.828872\n",
       "10  0.0  1.284822  1.160256\n",
       "11  0.0  0.990178  0.919867\n",
       "12  0.0 -0.315541  1.272367\n",
       "13  0.0  0.359858  0.001217\n",
       "14  0.0 -1.891434  0.408895"
      ]
     },
     "execution_count": 11,
     "metadata": {},
     "output_type": "execute_result"
    }
   ],
   "source": [
    "df"
   ]
  },
  {
   "cell_type": "code",
   "execution_count": 3,
   "metadata": {},
   "outputs": [],
   "source": [
    "import threading\n",
    "import queue\n",
    "import time\n",
    "import random\n",
    "\n",
    "def producer(q):\n",
    "    for i in range(5):\n",
    "        item = random.randint(1, 100)\n",
    "        print(f\"Producer: produced item {item}\")\n",
    "        q.put(item)\n",
    "        time.sleep(random.uniform(0.1, 0.2))\n",
    "    q.put(None)  # Sentinel value to signal consumer to exit\n",
    "\n",
    "def consumer(q):\n",
    "    while True:\n",
    "        item = q.get()\n",
    "        if item is None:  # Check for sentinel value\n",
    "            print(\"Consumer: received exit signal.\")\n",
    "            break\n",
    "        print(f\"Consumer: consumed item {item}\")\n",
    "        time.sleep(random.uniform(0.5, 1.5))\n",
    "    print(\"Consumer: finished.\")\n"
   ]
  },
  {
   "cell_type": "code",
   "execution_count": 4,
   "metadata": {},
   "outputs": [
    {
     "name": "stdout",
     "output_type": "stream",
     "text": [
      "Producer: produced item 75\n",
      "Consumer: consumed item 75\n",
      "Producer: produced item 69\n",
      "Producer: produced item 86\n",
      "Producer: produced item 13\n",
      "Producer: produced item 27\n",
      "Producer thread done.\n",
      "Consumer: consumed item 69\n",
      "Consumer: consumed item 86\n",
      "Consumer: consumed item 13\n",
      "Consumer: consumed item 27\n",
      "Consumer: received exit signal.\n",
      "Consumer: finished.\n",
      "Main thread: done.\n"
     ]
    }
   ],
   "source": [
    "\n",
    "q = queue.Queue()\n",
    "t1 = threading.Thread(target=producer, args=(q,))\n",
    "t2 = threading.Thread(target=consumer, args=(q,))\n",
    "\n",
    "t1.start()\n",
    "t2.start()\n",
    "\n",
    "t1.join()\n",
    "print(\"Producer thread done.\")\n",
    "t2.join()\n",
    "print(\"Main thread: done.\")\n"
   ]
  },
  {
   "cell_type": "code",
   "execution_count": null,
   "metadata": {},
   "outputs": [],
   "source": [
    "# def producer():\n",
    "#     with cond:\n",
    "#         buffer.add(item)\n",
    "#         cond.notify()  # Wake 1 consumer\n",
    "\n",
    "# def consumer():\n",
    "#     with cond:\n",
    "#         while buffer.empty():\n",
    "#             cond.wait()\n",
    "#         return buffer.get()\n"
   ]
  },
  {
   "cell_type": "code",
   "execution_count": 15,
   "metadata": {},
   "outputs": [],
   "source": [
    "import threading\n",
    "import queue\n",
    "import time\n",
    "import random\n",
    "\n",
    "# Shared queue between threads\n",
    "data_queue = queue.Queue()\n",
    "\n",
    "# Event to signal termination\n",
    "stop_event = threading.Event()\n",
    "\n",
    "# Producer thread\n",
    "def producer():\n",
    "    while not stop_event.is_set():\n",
    "        item = random.randint(1, 100)\n",
    "        data_queue.put(item)\n",
    "        print(f\"[Producer] Produced: {item}\")\n",
    "        time.sleep(random.uniform(0.15, 0.15))  # Simulate work\n",
    "\n",
    "# Consumer thread\n",
    "def consumer():\n",
    "    while not stop_event.is_set() or not data_queue.empty():\n",
    "        try:\n",
    "            item = data_queue.get()\n",
    "            print(f\"[Consumer] Consumed: {item}\")\n",
    "            # data_queue.task_done()\n",
    "            time.sleep(random.uniform(1.5, 1.5))  # Simulate processing\n",
    "        except queue.Empty:\n",
    "            pass\n"
   ]
  },
  {
   "cell_type": "code",
   "execution_count": null,
   "metadata": {},
   "outputs": [],
   "source": []
  },
  {
   "cell_type": "code",
   "execution_count": 16,
   "metadata": {},
   "outputs": [
    {
     "name": "stdout",
     "output_type": "stream",
     "text": [
      "[Producer] Produced: 24\n",
      "[Consumer] Consumed: 24\n",
      "[Producer] Produced: 1\n",
      "[Producer] Produced: 11\n",
      "[Producer] Produced: 92\n",
      "[Producer] Produced: 89\n",
      "[Producer] Produced: 8\n",
      "[Producer] Produced: 89\n",
      "[Producer] Produced: 71\n",
      "[Producer] Produced: 11\n",
      "[Producer] Produced: 45\n",
      "[Consumer] Consumed: 1\n",
      "[Producer] Produced: 43\n",
      "[Producer] Produced: 56\n",
      "[Producer] Produced: 38\n",
      "[Producer] Produced: 32\n",
      "[Producer] Produced: 85\n",
      "[Producer] Produced: 78\n",
      "[Producer] Produced: 72\n",
      "[Producer] Produced: 40\n",
      "[Producer] Produced: 10\n",
      "[Producer] Produced: 66\n",
      "[Consumer] Consumed: 11\n",
      "[Producer] Produced: 83\n",
      "[Producer] Produced: 47\n",
      "[Producer] Produced: 99\n",
      "[Producer] Produced: 89\n",
      "[Producer] Produced: 74\n",
      "[Producer] Produced: 82\n",
      "[Producer] Produced: 18\n",
      "[Producer] Produced: 50\n",
      "[Producer] Produced: 17\n",
      "[Producer] Produced: 76\n",
      "[Consumer] Consumed: 92\n",
      "[Producer] Produced: 12\n",
      "[Producer] Produced: 2\n",
      "[Producer] Produced: 55\n",
      "[Producer] Produced: 86\n",
      "[Producer] Produced: 4\n",
      "[Producer] Produced: 68\n",
      "[Producer] Produced: 91\n",
      "[Producer] Produced: 76\n",
      "[Producer] Produced: 80\n",
      "[Producer] Produced: 82\n",
      "[Consumer] Consumed: 89\n",
      "[Producer] Produced: 87\n",
      "[Producer] Produced: 72\n",
      "[Producer] Produced: 100\n",
      "[Producer] Produced: 5\n",
      "[Producer] Produced: 80\n",
      "[Producer] Produced: 62\n",
      "[Producer] Produced: 63\n",
      "[Producer] Produced: 67\n",
      "[Producer] Produced: 94\n",
      "[Producer] Produced: 59\n",
      "[Consumer] Consumed: 8\n",
      "[Producer] Produced: 37\n",
      "[Producer] Produced: 42\n",
      "[Producer] Produced: 1\n",
      "[Producer] Produced: 13\n",
      "[Producer] Produced: 82\n",
      "[Producer] Produced: 73\n",
      "[Producer] Produced: 40\n",
      "[Producer] Produced: 11\n",
      "[Producer] Produced: 35\n",
      "[Producer] Produced: 53\n",
      "[Consumer] Consumed: 89\n",
      "[Producer] Produced: 96\n",
      "[Producer] Produced: 12\n",
      "[Producer] Produced: 73\n",
      "[Producer] Produced: 47\n",
      "[Producer] Produced: 15\n",
      "[Producer] Produced: 65\n",
      "[Producer] Produced: 43\n",
      "[Consumer] Consumed: 71\n",
      "[Consumer] Consumed: 11\n",
      "[Consumer] Consumed: 45\n",
      "[Consumer] Consumed: 43\n",
      "[Consumer] Consumed: 56\n",
      "[Consumer] Consumed: 38\n",
      "[Consumer] Consumed: 32\n",
      "[Consumer] Consumed: 85\n",
      "[Consumer] Consumed: 78\n",
      "[Consumer] Consumed: 72\n",
      "[Consumer] Consumed: 40\n",
      "[Consumer] Consumed: 10\n",
      "[Consumer] Consumed: 66\n",
      "[Consumer] Consumed: 83\n",
      "[Consumer] Consumed: 47\n",
      "[Consumer] Consumed: 99\n",
      "[Consumer] Consumed: 89\n",
      "[Consumer] Consumed: 74\n",
      "[Consumer] Consumed: 82\n",
      "[Consumer] Consumed: 18\n",
      "[Consumer] Consumed: 50\n",
      "[Consumer] Consumed: 17\n",
      "[Consumer] Consumed: 76\n",
      "[Consumer] Consumed: 12\n",
      "[Consumer] Consumed: 2\n",
      "[Consumer] Consumed: 55\n",
      "[Consumer] Consumed: 86\n",
      "[Consumer] Consumed: 4\n",
      "[Consumer] Consumed: 68\n",
      "[Consumer] Consumed: 91\n",
      "[Consumer] Consumed: 76\n",
      "[Consumer] Consumed: 80\n",
      "[Consumer] Consumed: 82\n",
      "[Consumer] Consumed: 87\n",
      "[Consumer] Consumed: 72\n",
      "[Consumer] Consumed: 100\n",
      "[Consumer] Consumed: 5\n",
      "[Consumer] Consumed: 80\n",
      "[Consumer] Consumed: 62\n",
      "[Consumer] Consumed: 63\n",
      "[Consumer] Consumed: 67\n",
      "[Consumer] Consumed: 94\n",
      "[Consumer] Consumed: 59\n",
      "[Consumer] Consumed: 37\n",
      "[Consumer] Consumed: 42\n",
      "[Consumer] Consumed: 1\n",
      "[Consumer] Consumed: 13\n",
      "[Consumer] Consumed: 82\n",
      "[Consumer] Consumed: 73\n",
      "[Consumer] Consumed: 40\n",
      "[Consumer] Consumed: 11\n",
      "[Consumer] Consumed: 35\n",
      "[Consumer] Consumed: 53\n",
      "[Consumer] Consumed: 96\n",
      "[Consumer] Consumed: 12\n",
      "[Consumer] Consumed: 73\n",
      "[Consumer] Consumed: 47\n",
      "[Consumer] Consumed: 15\n",
      "[Consumer] Consumed: 65\n",
      "[Consumer] Consumed: 43\n",
      "Finished processing.\n"
     ]
    }
   ],
   "source": [
    "\n",
    "# Start threads\n",
    "producer_thread = threading.Thread(target=producer)\n",
    "consumer_thread = threading.Thread(target=consumer)\n",
    "\n",
    "producer_thread.start()\n",
    "consumer_thread.start()\n",
    "\n",
    "# Let producer run for a while\n",
    "time.sleep(3)\n",
    "\n",
    "# Signal threads to stop\n",
    "stop_event.set()\n",
    "\n",
    "# Wait for threads to finish\n",
    "producer_thread.join()\n",
    "consumer_thread.join()\n",
    "\n",
    "print(\"Finished processing.\")\n"
   ]
  },
  {
   "cell_type": "code",
   "execution_count": null,
   "metadata": {},
   "outputs": [],
   "source": []
  }
 ],
 "metadata": {
  "kernelspec": {
   "display_name": ".venv",
   "language": "python",
   "name": "python3"
  },
  "language_info": {
   "codemirror_mode": {
    "name": "ipython",
    "version": 3
   },
   "file_extension": ".py",
   "mimetype": "text/x-python",
   "name": "python",
   "nbconvert_exporter": "python",
   "pygments_lexer": "ipython3",
   "version": "3.11.10"
  }
 },
 "nbformat": 4,
 "nbformat_minor": 2
}
