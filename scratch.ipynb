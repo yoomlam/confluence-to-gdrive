{
 "cells": [
  {
   "cell_type": "code",
   "execution_count": 1,
   "metadata": {},
   "outputs": [],
   "source": [
    "%load_ext autoreload\n",
    "%autoreload 2"
   ]
  },
  {
   "cell_type": "code",
   "execution_count": 2,
   "metadata": {},
   "outputs": [],
   "source": [
    "import sys  \n",
    "sys.path.insert(1, './src')"
   ]
  },
  {
   "cell_type": "code",
   "execution_count": 3,
   "metadata": {},
   "outputs": [],
   "source": [
    "from main import *"
   ]
  },
  {
   "cell_type": "code",
   "execution_count": 4,
   "metadata": {},
   "outputs": [],
   "source": [
    "import logging\n",
    "logging.basicConfig(level=logging.INFO)"
   ]
  },
  {
   "cell_type": "code",
   "execution_count": 5,
   "metadata": {},
   "outputs": [],
   "source": [
    "from ui_helpers import *"
   ]
  },
  {
   "cell_type": "code",
   "execution_count": 6,
   "metadata": {},
   "outputs": [],
   "source": [
    "space_key = \"NL\"\n",
    "# page_title = \"Design and Prototyping\"\n",
    "page_title = \"Product\""
   ]
  },
  {
   "cell_type": "code",
   "execution_count": 7,
   "metadata": {},
   "outputs": [],
   "source": [
    "class MyMock(dict):\n",
    "    __getattr__= dict.__getitem__\n",
    "    __setattr__= dict.__setitem__\n",
    "    __delattr__= dict.__delitem__\n",
    "ss = MyMock()"
   ]
  },
  {
   "cell_type": "code",
   "execution_count": 8,
   "metadata": {},
   "outputs": [
    {
     "name": "stderr",
     "output_type": "stream",
     "text": [
      "DEBUG:main:space_key='NL', page_title='Product'\n",
      "INFO:main:TODO: export page 'Product'\n",
      "INFO:atlassian.confluence:rest/api/content/927367268/child/page\n",
      "INFO:main:TODO: create folder for page 'Product'\n",
      "INFO:main:TODO: export page 'Feature Brief: Extensible data sources'\n",
      "INFO:atlassian.confluence:rest/api/content/1203175560/child/page\n",
      "INFO:main:TODO: create folder for page 'Feature Brief: Extensible data sources'\n",
      "INFO:main:TODO: export page 'Tech spec for ingesting policy PDFs'\n",
      "INFO:atlassian.confluence:rest/api/content/1233616975/child/page\n",
      "INFO:main:TODO: export page 'Evaluation Criteria for PDF-Parsing Tools'\n",
      "INFO:atlassian.confluence:rest/api/content/1291419695/child/page\n",
      "INFO:main:TODO: export page 'Tech Spec for improving PDF parsing'\n",
      "INFO:atlassian.confluence:rest/api/content/1305083960/child/page\n",
      "INFO:main:TODO: create folder for page 'Tech Spec for improving PDF parsing'\n",
      "INFO:main:TODO: export page 'Sample inputs and outputs for test cases'\n",
      "INFO:atlassian.confluence:rest/api/content/1307967493/child/page\n",
      "INFO:main:TODO: export page 'Tech Spec: Separating Chunks and Citations'\n",
      "INFO:atlassian.confluence:rest/api/content/1342177290/child/page\n",
      "INFO:main:TODO: export page 'Lightweight ingestion script for web sources'\n",
      "INFO:atlassian.confluence:rest/api/content/1384448006/child/page\n",
      "INFO:main:TODO: export page 'Tech Spec for Implementing Conversation History'\n",
      "INFO:atlassian.confluence:rest/api/content/1404895236/child/page\n",
      "INFO:main:TODO: export page 'Chatbot versioning strategy'\n",
      "INFO:atlassian.confluence:rest/api/content/1417838624/child/page\n",
      "INFO:main:TODO: export page 'Tech Spec: Automating QA evaluation pipeline for DST chat'\n",
      "INFO:atlassian.confluence:rest/api/content/1590591516/child/page\n",
      "INFO:main:TODO: export page '[DRAFT] Tech Spec: Exploration of expert curation for DST evaluation'\n",
      "INFO:atlassian.confluence:rest/api/content/1549631705/child/page\n"
     ]
    }
   ],
   "source": [
    "ss.root_node = recurse_pages(space_key, page_title)\n"
   ]
  },
  {
   "cell_type": "code",
   "execution_count": 9,
   "metadata": {},
   "outputs": [],
   "source": [
    "root_node = ss.root_node"
   ]
  },
  {
   "cell_type": "code",
   "execution_count": 10,
   "metadata": {},
   "outputs": [],
   "source": [
    "ss.nodes = {node.id:node for node in PreOrderIter(ss.root_node)}"
   ]
  },
  {
   "cell_type": "code",
   "execution_count": 11,
   "metadata": {},
   "outputs": [
    {
     "data": {
      "text/plain": [
       "[{'id': '927367268',\n",
       "  'title': 'Product',\n",
       "  'modified': datetime.datetime(2024, 1, 22, 19, 28, 16, 391000),\n",
       "  'parent': None,\n",
       "  'include': True},\n",
       " {'id': '1203175560',\n",
       "  'title': 'Feature Brief: Extensible data sources',\n",
       "  'modified': datetime.datetime(2024, 7, 2, 17, 1, 35, 953000),\n",
       "  'parent': 'Product',\n",
       "  'include': True},\n",
       " {'id': '1233616975',\n",
       "  'title': 'Tech spec for ingesting policy PDFs',\n",
       "  'modified': datetime.datetime(2024, 7, 18, 15, 59, 35, 878000),\n",
       "  'parent': 'Feature Brief: Extensible data sources',\n",
       "  'include': True},\n",
       " {'id': '1291419695',\n",
       "  'title': 'Evaluation Criteria for PDF-Parsing Tools',\n",
       "  'modified': datetime.datetime(2024, 8, 22, 21, 12, 24, 994000),\n",
       "  'parent': 'Feature Brief: Extensible data sources',\n",
       "  'include': True},\n",
       " {'id': '1305083960',\n",
       "  'title': 'Tech Spec for improving PDF parsing',\n",
       "  'modified': datetime.datetime(2024, 8, 28, 19, 26, 44, 862000),\n",
       "  'parent': 'Feature Brief: Extensible data sources',\n",
       "  'include': True},\n",
       " {'id': '1307967493',\n",
       "  'title': 'Sample inputs and outputs for test cases',\n",
       "  'modified': datetime.datetime(2024, 8, 22, 17, 27, 47, 775000),\n",
       "  'parent': 'Tech Spec for improving PDF parsing',\n",
       "  'include': True},\n",
       " {'id': '1342177290',\n",
       "  'title': 'Tech Spec: Separating Chunks and Citations',\n",
       "  'modified': datetime.datetime(2024, 9, 13, 13, 54, 5, 480000),\n",
       "  'parent': 'Feature Brief: Extensible data sources',\n",
       "  'include': True},\n",
       " {'id': '1384448006',\n",
       "  'title': 'Lightweight ingestion script for web sources',\n",
       "  'modified': datetime.datetime(2024, 10, 2, 15, 23, 7, 632000),\n",
       "  'parent': 'Feature Brief: Extensible data sources',\n",
       "  'include': True},\n",
       " {'id': '1404895236',\n",
       "  'title': 'Tech Spec for Implementing Conversation History',\n",
       "  'modified': datetime.datetime(2024, 10, 17, 20, 2, 49, 488000),\n",
       "  'parent': 'Product',\n",
       "  'include': True},\n",
       " {'id': '1417838624',\n",
       "  'title': 'Chatbot versioning strategy',\n",
       "  'modified': datetime.datetime(2024, 10, 24, 22, 37, 40, 771000),\n",
       "  'parent': 'Product',\n",
       "  'include': True},\n",
       " {'id': '1590591516',\n",
       "  'title': 'Tech Spec: Automating QA evaluation pipeline for DST chat',\n",
       "  'modified': datetime.datetime(2025, 1, 28, 18, 32, 43, 385000),\n",
       "  'parent': 'Product',\n",
       "  'include': True},\n",
       " {'id': '1549631705',\n",
       "  'title': '[DRAFT] Tech Spec: Exploration of expert curation for DST evaluation',\n",
       "  'modified': datetime.datetime(2025, 1, 30, 17, 48, 41, 542000),\n",
       "  'parent': 'Product',\n",
       "  'include': True}]"
      ]
     },
     "execution_count": 11,
     "metadata": {},
     "output_type": "execute_result"
    }
   ],
   "source": [
    "pages_response = [PageNode(n).as_row() for n in flatten_page_tree(ss.root_node)]\n",
    "pages_response"
   ]
  },
  {
   "cell_type": "code",
   "execution_count": 13,
   "metadata": {},
   "outputs": [
    {
     "data": {
      "text/plain": [
       "Node('/927367268', id='927367268', modified=datetime.datetime(2024, 1, 22, 19, 28, 16, 391000), title='Product')"
      ]
     },
     "execution_count": 13,
     "metadata": {},
     "output_type": "execute_result"
    }
   ],
   "source": [
    "ss.nodes[pages_response[0]['id']]"
   ]
  },
  {
   "cell_type": "code",
   "execution_count": 14,
   "metadata": {},
   "outputs": [
    {
     "data": {
      "text/plain": [
       "'2024-08-25T00:00:00'"
      ]
     },
     "execution_count": 14,
     "metadata": {},
     "output_type": "execute_result"
    }
   ],
   "source": [
    "from datetime import datetime\n",
    "after_date = \"2024-08-25\"\n",
    "after_time = \"00:00:00\"\n",
    "date_str = f\"{after_date}T{after_time}.000Z\"\n",
    "timestamp = datetime.strptime(date_str, \"%Y-%m-%dT%H:%M:%S.%fZ\")\n",
    "timestamp.isoformat()"
   ]
  },
  {
   "cell_type": "code",
   "execution_count": 15,
   "metadata": {},
   "outputs": [],
   "source": [
    "exclude_old_nodes(root_node, timestamp)"
   ]
  },
  {
   "cell_type": "code",
   "execution_count": 16,
   "metadata": {},
   "outputs": [],
   "source": [
    "ss.pages_response = [PageNode(n).as_row() for n in flatten_page_tree(ss.root_node)]"
   ]
  },
  {
   "cell_type": "code",
   "execution_count": 17,
   "metadata": {},
   "outputs": [
    {
     "data": {
      "text/plain": [
       "[{'id': '927367268',\n",
       "  'title': 'Product',\n",
       "  'modified': datetime.datetime(2024, 1, 22, 19, 28, 16, 391000),\n",
       "  'parent': None,\n",
       "  'include': False},\n",
       " {'id': '1203175560',\n",
       "  'title': 'Feature Brief: Extensible data sources',\n",
       "  'modified': datetime.datetime(2024, 7, 2, 17, 1, 35, 953000),\n",
       "  'parent': 'Product',\n",
       "  'include': False},\n",
       " {'id': '1233616975',\n",
       "  'title': 'Tech spec for ingesting policy PDFs',\n",
       "  'modified': datetime.datetime(2024, 7, 18, 15, 59, 35, 878000),\n",
       "  'parent': 'Feature Brief: Extensible data sources',\n",
       "  'include': False},\n",
       " {'id': '1291419695',\n",
       "  'title': 'Evaluation Criteria for PDF-Parsing Tools',\n",
       "  'modified': datetime.datetime(2024, 8, 22, 21, 12, 24, 994000),\n",
       "  'parent': 'Feature Brief: Extensible data sources',\n",
       "  'include': False},\n",
       " {'id': '1305083960',\n",
       "  'title': 'Tech Spec for improving PDF parsing',\n",
       "  'modified': datetime.datetime(2024, 8, 28, 19, 26, 44, 862000),\n",
       "  'parent': 'Feature Brief: Extensible data sources',\n",
       "  'include': True},\n",
       " {'id': '1307967493',\n",
       "  'title': 'Sample inputs and outputs for test cases',\n",
       "  'modified': datetime.datetime(2024, 8, 22, 17, 27, 47, 775000),\n",
       "  'parent': 'Tech Spec for improving PDF parsing',\n",
       "  'include': False},\n",
       " {'id': '1342177290',\n",
       "  'title': 'Tech Spec: Separating Chunks and Citations',\n",
       "  'modified': datetime.datetime(2024, 9, 13, 13, 54, 5, 480000),\n",
       "  'parent': 'Feature Brief: Extensible data sources',\n",
       "  'include': True},\n",
       " {'id': '1384448006',\n",
       "  'title': 'Lightweight ingestion script for web sources',\n",
       "  'modified': datetime.datetime(2024, 10, 2, 15, 23, 7, 632000),\n",
       "  'parent': 'Feature Brief: Extensible data sources',\n",
       "  'include': True},\n",
       " {'id': '1404895236',\n",
       "  'title': 'Tech Spec for Implementing Conversation History',\n",
       "  'modified': datetime.datetime(2024, 10, 17, 20, 2, 49, 488000),\n",
       "  'parent': 'Product',\n",
       "  'include': True},\n",
       " {'id': '1417838624',\n",
       "  'title': 'Chatbot versioning strategy',\n",
       "  'modified': datetime.datetime(2024, 10, 24, 22, 37, 40, 771000),\n",
       "  'parent': 'Product',\n",
       "  'include': True},\n",
       " {'id': '1590591516',\n",
       "  'title': 'Tech Spec: Automating QA evaluation pipeline for DST chat',\n",
       "  'modified': datetime.datetime(2025, 1, 28, 18, 32, 43, 385000),\n",
       "  'parent': 'Product',\n",
       "  'include': True},\n",
       " {'id': '1549631705',\n",
       "  'title': '[DRAFT] Tech Spec: Exploration of expert curation for DST evaluation',\n",
       "  'modified': datetime.datetime(2025, 1, 30, 17, 48, 41, 542000),\n",
       "  'parent': 'Product',\n",
       "  'include': True}]"
      ]
     },
     "execution_count": 17,
     "metadata": {},
     "output_type": "execute_result"
    }
   ],
   "source": [
    "ss.pages_response"
   ]
  },
  {
   "cell_type": "code",
   "execution_count": 16,
   "metadata": {},
   "outputs": [],
   "source": [
    "import pandas as pd"
   ]
  },
  {
   "cell_type": "code",
   "execution_count": 56,
   "metadata": {},
   "outputs": [
    {
     "data": {
      "text/html": [
       "<div>\n",
       "<style scoped>\n",
       "    .dataframe tbody tr th:only-of-type {\n",
       "        vertical-align: middle;\n",
       "    }\n",
       "\n",
       "    .dataframe tbody tr th {\n",
       "        vertical-align: top;\n",
       "    }\n",
       "\n",
       "    .dataframe thead th {\n",
       "        text-align: right;\n",
       "    }\n",
       "</style>\n",
       "<table border=\"1\" class=\"dataframe\">\n",
       "  <thead>\n",
       "    <tr style=\"text-align: right;\">\n",
       "      <th></th>\n",
       "      <th>id</th>\n",
       "      <th>title</th>\n",
       "      <th>modified</th>\n",
       "      <th>parent</th>\n",
       "      <th>include</th>\n",
       "    </tr>\n",
       "  </thead>\n",
       "  <tbody>\n",
       "    <tr>\n",
       "      <th>0</th>\n",
       "      <td>927367268</td>\n",
       "      <td>Product</td>\n",
       "      <td>2024-01-22 19:28:16.391</td>\n",
       "      <td>None</td>\n",
       "      <td>False</td>\n",
       "    </tr>\n",
       "    <tr>\n",
       "      <th>1</th>\n",
       "      <td>1203175560</td>\n",
       "      <td>Feature Brief: Extensible data sources</td>\n",
       "      <td>2024-07-02 17:01:35.953</td>\n",
       "      <td>Product</td>\n",
       "      <td>False</td>\n",
       "    </tr>\n",
       "    <tr>\n",
       "      <th>2</th>\n",
       "      <td>1233616975</td>\n",
       "      <td>Tech spec for ingesting policy PDFs</td>\n",
       "      <td>2024-07-18 15:59:35.878</td>\n",
       "      <td>Feature Brief: Extensible data sources</td>\n",
       "      <td>False</td>\n",
       "    </tr>\n",
       "    <tr>\n",
       "      <th>3</th>\n",
       "      <td>1291419695</td>\n",
       "      <td>Evaluation Criteria for PDF-Parsing Tools</td>\n",
       "      <td>2024-08-22 21:12:24.994</td>\n",
       "      <td>Feature Brief: Extensible data sources</td>\n",
       "      <td>False</td>\n",
       "    </tr>\n",
       "    <tr>\n",
       "      <th>4</th>\n",
       "      <td>1305083960</td>\n",
       "      <td>Tech Spec for improving PDF parsing</td>\n",
       "      <td>2024-08-28 19:26:44.862</td>\n",
       "      <td>Feature Brief: Extensible data sources</td>\n",
       "      <td>True</td>\n",
       "    </tr>\n",
       "    <tr>\n",
       "      <th>5</th>\n",
       "      <td>1307967493</td>\n",
       "      <td>Sample inputs and outputs for test cases</td>\n",
       "      <td>2024-08-22 17:27:47.775</td>\n",
       "      <td>Tech Spec for improving PDF parsing</td>\n",
       "      <td>False</td>\n",
       "    </tr>\n",
       "    <tr>\n",
       "      <th>6</th>\n",
       "      <td>1342177290</td>\n",
       "      <td>Tech Spec: Separating Chunks and Citations</td>\n",
       "      <td>2024-09-13 13:54:05.480</td>\n",
       "      <td>Feature Brief: Extensible data sources</td>\n",
       "      <td>True</td>\n",
       "    </tr>\n",
       "    <tr>\n",
       "      <th>7</th>\n",
       "      <td>1384448006</td>\n",
       "      <td>Lightweight ingestion script for web sources</td>\n",
       "      <td>2024-10-02 15:23:07.632</td>\n",
       "      <td>Feature Brief: Extensible data sources</td>\n",
       "      <td>True</td>\n",
       "    </tr>\n",
       "    <tr>\n",
       "      <th>8</th>\n",
       "      <td>1404895236</td>\n",
       "      <td>Tech Spec for Implementing Conversation History</td>\n",
       "      <td>2024-10-17 20:02:49.488</td>\n",
       "      <td>Product</td>\n",
       "      <td>True</td>\n",
       "    </tr>\n",
       "    <tr>\n",
       "      <th>9</th>\n",
       "      <td>1417838624</td>\n",
       "      <td>Chatbot versioning strategy</td>\n",
       "      <td>2024-10-24 22:37:40.771</td>\n",
       "      <td>Product</td>\n",
       "      <td>True</td>\n",
       "    </tr>\n",
       "    <tr>\n",
       "      <th>10</th>\n",
       "      <td>1590591516</td>\n",
       "      <td>Tech Spec: Automating QA evaluation pipeline f...</td>\n",
       "      <td>2025-01-28 18:32:43.385</td>\n",
       "      <td>Product</td>\n",
       "      <td>True</td>\n",
       "    </tr>\n",
       "    <tr>\n",
       "      <th>11</th>\n",
       "      <td>1549631705</td>\n",
       "      <td>[DRAFT] Tech Spec: Exploration of expert curat...</td>\n",
       "      <td>2025-01-30 17:48:41.542</td>\n",
       "      <td>Product</td>\n",
       "      <td>True</td>\n",
       "    </tr>\n",
       "  </tbody>\n",
       "</table>\n",
       "</div>"
      ],
      "text/plain": [
       "            id                                              title  \\\n",
       "0    927367268                                            Product   \n",
       "1   1203175560             Feature Brief: Extensible data sources   \n",
       "2   1233616975                Tech spec for ingesting policy PDFs   \n",
       "3   1291419695          Evaluation Criteria for PDF-Parsing Tools   \n",
       "4   1305083960                Tech Spec for improving PDF parsing   \n",
       "5   1307967493           Sample inputs and outputs for test cases   \n",
       "6   1342177290         Tech Spec: Separating Chunks and Citations   \n",
       "7   1384448006       Lightweight ingestion script for web sources   \n",
       "8   1404895236    Tech Spec for Implementing Conversation History   \n",
       "9   1417838624                        Chatbot versioning strategy   \n",
       "10  1590591516  Tech Spec: Automating QA evaluation pipeline f...   \n",
       "11  1549631705  [DRAFT] Tech Spec: Exploration of expert curat...   \n",
       "\n",
       "                  modified                                  parent  include  \n",
       "0  2024-01-22 19:28:16.391                                    None    False  \n",
       "1  2024-07-02 17:01:35.953                                 Product    False  \n",
       "2  2024-07-18 15:59:35.878  Feature Brief: Extensible data sources    False  \n",
       "3  2024-08-22 21:12:24.994  Feature Brief: Extensible data sources    False  \n",
       "4  2024-08-28 19:26:44.862  Feature Brief: Extensible data sources     True  \n",
       "5  2024-08-22 17:27:47.775     Tech Spec for improving PDF parsing    False  \n",
       "6  2024-09-13 13:54:05.480  Feature Brief: Extensible data sources     True  \n",
       "7  2024-10-02 15:23:07.632  Feature Brief: Extensible data sources     True  \n",
       "8  2024-10-17 20:02:49.488                                 Product     True  \n",
       "9  2024-10-24 22:37:40.771                                 Product     True  \n",
       "10 2025-01-28 18:32:43.385                                 Product     True  \n",
       "11 2025-01-30 17:48:41.542                                 Product     True  "
      ]
     },
     "execution_count": 56,
     "metadata": {},
     "output_type": "execute_result"
    }
   ],
   "source": [
    "df = pd.DataFrame(ss.pages_response)\n",
    "df"
   ]
  },
  {
   "cell_type": "code",
   "execution_count": 64,
   "metadata": {},
   "outputs": [
    {
     "data": {
      "text/html": [
       "<style type=\"text/css\">\n",
       "#T_b8e39_row0_col0, #T_b8e39_row0_col1, #T_b8e39_row0_col2, #T_b8e39_row0_col3, #T_b8e39_row0_col4, #T_b8e39_row1_col0, #T_b8e39_row1_col1, #T_b8e39_row1_col2, #T_b8e39_row1_col3, #T_b8e39_row1_col4, #T_b8e39_row2_col0, #T_b8e39_row2_col1, #T_b8e39_row2_col2, #T_b8e39_row2_col3, #T_b8e39_row2_col4, #T_b8e39_row3_col0, #T_b8e39_row3_col1, #T_b8e39_row3_col2, #T_b8e39_row3_col3, #T_b8e39_row3_col4, #T_b8e39_row5_col0, #T_b8e39_row5_col1, #T_b8e39_row5_col2, #T_b8e39_row5_col3, #T_b8e39_row5_col4 {\n",
       "  background-color: darkgray;\n",
       "}\n",
       "#T_b8e39_row4_col0, #T_b8e39_row4_col1, #T_b8e39_row4_col2, #T_b8e39_row4_col3, #T_b8e39_row4_col4, #T_b8e39_row6_col0, #T_b8e39_row6_col1, #T_b8e39_row6_col2, #T_b8e39_row6_col3, #T_b8e39_row6_col4, #T_b8e39_row7_col0, #T_b8e39_row7_col1, #T_b8e39_row7_col2, #T_b8e39_row7_col3, #T_b8e39_row7_col4, #T_b8e39_row8_col0, #T_b8e39_row8_col1, #T_b8e39_row8_col2, #T_b8e39_row8_col3, #T_b8e39_row8_col4, #T_b8e39_row9_col0, #T_b8e39_row9_col1, #T_b8e39_row9_col2, #T_b8e39_row9_col3, #T_b8e39_row9_col4, #T_b8e39_row10_col0, #T_b8e39_row10_col1, #T_b8e39_row10_col2, #T_b8e39_row10_col3, #T_b8e39_row10_col4, #T_b8e39_row11_col0, #T_b8e39_row11_col1, #T_b8e39_row11_col2, #T_b8e39_row11_col3, #T_b8e39_row11_col4 {\n",
       "  background-color: gray;\n",
       "}\n",
       "</style>\n",
       "<table id=\"T_b8e39\">\n",
       "  <thead>\n",
       "    <tr>\n",
       "      <th class=\"blank level0\" >&nbsp;</th>\n",
       "      <th id=\"T_b8e39_level0_col0\" class=\"col_heading level0 col0\" >id</th>\n",
       "      <th id=\"T_b8e39_level0_col1\" class=\"col_heading level0 col1\" >title</th>\n",
       "      <th id=\"T_b8e39_level0_col2\" class=\"col_heading level0 col2\" >modified</th>\n",
       "      <th id=\"T_b8e39_level0_col3\" class=\"col_heading level0 col3\" >parent</th>\n",
       "      <th id=\"T_b8e39_level0_col4\" class=\"col_heading level0 col4\" >include</th>\n",
       "    </tr>\n",
       "  </thead>\n",
       "  <tbody>\n",
       "    <tr>\n",
       "      <th id=\"T_b8e39_level0_row0\" class=\"row_heading level0 row0\" >0</th>\n",
       "      <td id=\"T_b8e39_row0_col0\" class=\"data row0 col0\" >927367268</td>\n",
       "      <td id=\"T_b8e39_row0_col1\" class=\"data row0 col1\" >Product</td>\n",
       "      <td id=\"T_b8e39_row0_col2\" class=\"data row0 col2\" >2024-01-22 19:28:16.391000</td>\n",
       "      <td id=\"T_b8e39_row0_col3\" class=\"data row0 col3\" >None</td>\n",
       "      <td id=\"T_b8e39_row0_col4\" class=\"data row0 col4\" >False</td>\n",
       "    </tr>\n",
       "    <tr>\n",
       "      <th id=\"T_b8e39_level0_row1\" class=\"row_heading level0 row1\" >1</th>\n",
       "      <td id=\"T_b8e39_row1_col0\" class=\"data row1 col0\" >1203175560</td>\n",
       "      <td id=\"T_b8e39_row1_col1\" class=\"data row1 col1\" >Feature Brief: Extensible data sources</td>\n",
       "      <td id=\"T_b8e39_row1_col2\" class=\"data row1 col2\" >2024-07-02 17:01:35.953000</td>\n",
       "      <td id=\"T_b8e39_row1_col3\" class=\"data row1 col3\" >Product</td>\n",
       "      <td id=\"T_b8e39_row1_col4\" class=\"data row1 col4\" >False</td>\n",
       "    </tr>\n",
       "    <tr>\n",
       "      <th id=\"T_b8e39_level0_row2\" class=\"row_heading level0 row2\" >2</th>\n",
       "      <td id=\"T_b8e39_row2_col0\" class=\"data row2 col0\" >1233616975</td>\n",
       "      <td id=\"T_b8e39_row2_col1\" class=\"data row2 col1\" >Tech spec for ingesting policy PDFs</td>\n",
       "      <td id=\"T_b8e39_row2_col2\" class=\"data row2 col2\" >2024-07-18 15:59:35.878000</td>\n",
       "      <td id=\"T_b8e39_row2_col3\" class=\"data row2 col3\" >Feature Brief: Extensible data sources</td>\n",
       "      <td id=\"T_b8e39_row2_col4\" class=\"data row2 col4\" >False</td>\n",
       "    </tr>\n",
       "    <tr>\n",
       "      <th id=\"T_b8e39_level0_row3\" class=\"row_heading level0 row3\" >3</th>\n",
       "      <td id=\"T_b8e39_row3_col0\" class=\"data row3 col0\" >1291419695</td>\n",
       "      <td id=\"T_b8e39_row3_col1\" class=\"data row3 col1\" >Evaluation Criteria for PDF-Parsing Tools</td>\n",
       "      <td id=\"T_b8e39_row3_col2\" class=\"data row3 col2\" >2024-08-22 21:12:24.994000</td>\n",
       "      <td id=\"T_b8e39_row3_col3\" class=\"data row3 col3\" >Feature Brief: Extensible data sources</td>\n",
       "      <td id=\"T_b8e39_row3_col4\" class=\"data row3 col4\" >False</td>\n",
       "    </tr>\n",
       "    <tr>\n",
       "      <th id=\"T_b8e39_level0_row4\" class=\"row_heading level0 row4\" >4</th>\n",
       "      <td id=\"T_b8e39_row4_col0\" class=\"data row4 col0\" >1305083960</td>\n",
       "      <td id=\"T_b8e39_row4_col1\" class=\"data row4 col1\" >Tech Spec for improving PDF parsing</td>\n",
       "      <td id=\"T_b8e39_row4_col2\" class=\"data row4 col2\" >2024-08-28 19:26:44.862000</td>\n",
       "      <td id=\"T_b8e39_row4_col3\" class=\"data row4 col3\" >Feature Brief: Extensible data sources</td>\n",
       "      <td id=\"T_b8e39_row4_col4\" class=\"data row4 col4\" >True</td>\n",
       "    </tr>\n",
       "    <tr>\n",
       "      <th id=\"T_b8e39_level0_row5\" class=\"row_heading level0 row5\" >5</th>\n",
       "      <td id=\"T_b8e39_row5_col0\" class=\"data row5 col0\" >1307967493</td>\n",
       "      <td id=\"T_b8e39_row5_col1\" class=\"data row5 col1\" >Sample inputs and outputs for test cases</td>\n",
       "      <td id=\"T_b8e39_row5_col2\" class=\"data row5 col2\" >2024-08-22 17:27:47.775000</td>\n",
       "      <td id=\"T_b8e39_row5_col3\" class=\"data row5 col3\" >Tech Spec for improving PDF parsing</td>\n",
       "      <td id=\"T_b8e39_row5_col4\" class=\"data row5 col4\" >False</td>\n",
       "    </tr>\n",
       "    <tr>\n",
       "      <th id=\"T_b8e39_level0_row6\" class=\"row_heading level0 row6\" >6</th>\n",
       "      <td id=\"T_b8e39_row6_col0\" class=\"data row6 col0\" >1342177290</td>\n",
       "      <td id=\"T_b8e39_row6_col1\" class=\"data row6 col1\" >Tech Spec: Separating Chunks and Citations</td>\n",
       "      <td id=\"T_b8e39_row6_col2\" class=\"data row6 col2\" >2024-09-13 13:54:05.480000</td>\n",
       "      <td id=\"T_b8e39_row6_col3\" class=\"data row6 col3\" >Feature Brief: Extensible data sources</td>\n",
       "      <td id=\"T_b8e39_row6_col4\" class=\"data row6 col4\" >True</td>\n",
       "    </tr>\n",
       "    <tr>\n",
       "      <th id=\"T_b8e39_level0_row7\" class=\"row_heading level0 row7\" >7</th>\n",
       "      <td id=\"T_b8e39_row7_col0\" class=\"data row7 col0\" >1384448006</td>\n",
       "      <td id=\"T_b8e39_row7_col1\" class=\"data row7 col1\" >Lightweight ingestion script for web sources</td>\n",
       "      <td id=\"T_b8e39_row7_col2\" class=\"data row7 col2\" >2024-10-02 15:23:07.632000</td>\n",
       "      <td id=\"T_b8e39_row7_col3\" class=\"data row7 col3\" >Feature Brief: Extensible data sources</td>\n",
       "      <td id=\"T_b8e39_row7_col4\" class=\"data row7 col4\" >True</td>\n",
       "    </tr>\n",
       "    <tr>\n",
       "      <th id=\"T_b8e39_level0_row8\" class=\"row_heading level0 row8\" >8</th>\n",
       "      <td id=\"T_b8e39_row8_col0\" class=\"data row8 col0\" >1404895236</td>\n",
       "      <td id=\"T_b8e39_row8_col1\" class=\"data row8 col1\" >Tech Spec for Implementing Conversation History</td>\n",
       "      <td id=\"T_b8e39_row8_col2\" class=\"data row8 col2\" >2024-10-17 20:02:49.488000</td>\n",
       "      <td id=\"T_b8e39_row8_col3\" class=\"data row8 col3\" >Product</td>\n",
       "      <td id=\"T_b8e39_row8_col4\" class=\"data row8 col4\" >True</td>\n",
       "    </tr>\n",
       "    <tr>\n",
       "      <th id=\"T_b8e39_level0_row9\" class=\"row_heading level0 row9\" >9</th>\n",
       "      <td id=\"T_b8e39_row9_col0\" class=\"data row9 col0\" >1417838624</td>\n",
       "      <td id=\"T_b8e39_row9_col1\" class=\"data row9 col1\" >Chatbot versioning strategy</td>\n",
       "      <td id=\"T_b8e39_row9_col2\" class=\"data row9 col2\" >2024-10-24 22:37:40.771000</td>\n",
       "      <td id=\"T_b8e39_row9_col3\" class=\"data row9 col3\" >Product</td>\n",
       "      <td id=\"T_b8e39_row9_col4\" class=\"data row9 col4\" >True</td>\n",
       "    </tr>\n",
       "    <tr>\n",
       "      <th id=\"T_b8e39_level0_row10\" class=\"row_heading level0 row10\" >10</th>\n",
       "      <td id=\"T_b8e39_row10_col0\" class=\"data row10 col0\" >1590591516</td>\n",
       "      <td id=\"T_b8e39_row10_col1\" class=\"data row10 col1\" >Tech Spec: Automating QA evaluation pipeline for DST chat</td>\n",
       "      <td id=\"T_b8e39_row10_col2\" class=\"data row10 col2\" >2025-01-28 18:32:43.385000</td>\n",
       "      <td id=\"T_b8e39_row10_col3\" class=\"data row10 col3\" >Product</td>\n",
       "      <td id=\"T_b8e39_row10_col4\" class=\"data row10 col4\" >True</td>\n",
       "    </tr>\n",
       "    <tr>\n",
       "      <th id=\"T_b8e39_level0_row11\" class=\"row_heading level0 row11\" >11</th>\n",
       "      <td id=\"T_b8e39_row11_col0\" class=\"data row11 col0\" >1549631705</td>\n",
       "      <td id=\"T_b8e39_row11_col1\" class=\"data row11 col1\" >[DRAFT] Tech Spec: Exploration of expert curation for DST evaluation</td>\n",
       "      <td id=\"T_b8e39_row11_col2\" class=\"data row11 col2\" >2025-01-30 17:48:41.542000</td>\n",
       "      <td id=\"T_b8e39_row11_col3\" class=\"data row11 col3\" >Product</td>\n",
       "      <td id=\"T_b8e39_row11_col4\" class=\"data row11 col4\" >True</td>\n",
       "    </tr>\n",
       "  </tbody>\n",
       "</table>\n"
      ],
      "text/plain": [
       "<pandas.io.formats.style.Styler at 0x7e48f5620750>"
      ]
     },
     "execution_count": 64,
     "metadata": {},
     "output_type": "execute_result"
    }
   ],
   "source": [
    "def page_included(val):\n",
    "    color = 'gray' if val['include'] else 'darkgray'\n",
    "    return [f'background-color: {color}']*len(val)\n",
    "\n",
    "df.style.apply(page_included, axis=1)\n"
   ]
  },
  {
   "cell_type": "code",
   "execution_count": 87,
   "metadata": {},
   "outputs": [],
   "source": [
    "from anytree.search import findall_by_attr, findall"
   ]
  },
  {
   "cell_type": "code",
   "execution_count": 80,
   "metadata": {},
   "outputs": [
    {
     "data": {
      "text/plain": [
       "Node('/927367268', id='927367268', include=False, modified=datetime.datetime(2024, 1, 22, 19, 28, 16, 391000), title='Product')"
      ]
     },
     "execution_count": 80,
     "metadata": {},
     "output_type": "execute_result"
    }
   ],
   "source": [
    "ss.root_node"
   ]
  },
  {
   "cell_type": "code",
   "execution_count": 83,
   "metadata": {},
   "outputs": [
    {
     "data": {
      "text/plain": [
       "()"
      ]
     },
     "execution_count": 83,
     "metadata": {},
     "output_type": "execute_result"
    }
   ],
   "source": [
    "findall_by_attr(ss.root_node, value=True, name='include')"
   ]
  },
  {
   "cell_type": "code",
   "execution_count": 89,
   "metadata": {},
   "outputs": [
    {
     "data": {
      "text/plain": [
       "['1305083960',\n",
       " '1342177290',\n",
       " '1384448006',\n",
       " '1404895236',\n",
       " '1417838624',\n",
       " '1590591516',\n",
       " '1549631705']"
      ]
     },
     "execution_count": 89,
     "metadata": {},
     "output_type": "execute_result"
    }
   ],
   "source": [
    "[node.id for node in findall(ss.root_node, filter_=lambda n: getattr(n, \"include\", True))]"
   ]
  },
  {
   "cell_type": "code",
   "execution_count": 29,
   "metadata": {},
   "outputs": [
    {
     "data": {
      "text/plain": [
       "[{'label': 'Product', 'value': '927367268'},\n",
       " {'label': 'Product subpages',\n",
       "  'value': 'children_927367268',\n",
       "  'children': [{'label': 'Feature Brief: Extensible data sources',\n",
       "    'value': '1203175560'},\n",
       "   {'label': 'Feature Brief: Extensible data sources subpages',\n",
       "    'value': 'children_1203175560',\n",
       "    'children': [{'label': 'Tech spec for ingesting policy PDFs',\n",
       "      'value': '1233616975'},\n",
       "     {'label': 'Evaluation Criteria for PDF-Parsing Tools',\n",
       "      'value': '1291419695'},\n",
       "     {'label': 'Tech Spec for improving PDF parsing', 'value': '1305083960'},\n",
       "     {'label': 'Tech Spec for improving PDF parsing subpages',\n",
       "      'value': 'children_1305083960',\n",
       "      'children': [{'label': 'Sample inputs and outputs for test cases',\n",
       "        'value': '1307967493'}]},\n",
       "     {'label': 'Tech Spec: Separating Chunks and Citations',\n",
       "      'value': '1342177290'},\n",
       "     {'label': 'Lightweight ingestion script for web sources',\n",
       "      'value': '1384448006'}]},\n",
       "   {'label': 'Tech Spec for Implementing Conversation History',\n",
       "    'value': '1404895236'},\n",
       "   {'label': 'Chatbot versioning strategy', 'value': '1417838624'},\n",
       "   {'label': 'Tech Spec: Automating QA evaluation pipeline for DST chat',\n",
       "    'value': '1590591516'},\n",
       "   {'label': '[DRAFT] Tech Spec: Exploration of expert curation for DST evaluation',\n",
       "    'value': '1549631705'}]}]"
      ]
     },
     "execution_count": 29,
     "metadata": {},
     "output_type": "execute_result"
    }
   ],
   "source": [
    "generate_dict_from_tree(ss.root_node)"
   ]
  },
  {
   "cell_type": "code",
   "execution_count": 70,
   "metadata": {},
   "outputs": [],
   "source": [
    "from anytree import LevelOrderIter"
   ]
  },
  {
   "cell_type": "code",
   "execution_count": 71,
   "metadata": {},
   "outputs": [
    {
     "data": {
      "text/plain": [
       "[{'label': 'Product', 'value': '927367268'},\n",
       " {'label': 'Feature Brief: Extensible data sources', 'value': '1203175560'},\n",
       " {'label': 'Tech Spec for Implementing Conversation History',\n",
       "  'value': '1404895236'},\n",
       " {'label': 'Chatbot versioning strategy', 'value': '1417838624'},\n",
       " {'label': 'Tech Spec: Automating QA evaluation pipeline for DST chat',\n",
       "  'value': '1590591516'},\n",
       " {'label': '[DRAFT] Tech Spec: Exploration of expert curation for DST evaluation',\n",
       "  'value': '1549631705'},\n",
       " {'label': 'Tech spec for ingesting policy PDFs', 'value': '1233616975'},\n",
       " {'label': 'Evaluation Criteria for PDF-Parsing Tools', 'value': '1291419695'},\n",
       " {'label': 'Tech Spec for improving PDF parsing', 'value': '1305083960'},\n",
       " {'label': 'Tech Spec: Separating Chunks and Citations',\n",
       "  'value': '1342177290'},\n",
       " {'label': 'Lightweight ingestion script for web sources',\n",
       "  'value': '1384448006'},\n",
       " {'label': 'Sample inputs and outputs for test cases', 'value': '1307967493'}]"
      ]
     },
     "execution_count": 71,
     "metadata": {},
     "output_type": "execute_result"
    }
   ],
   "source": [
    "[{\"label\": n.title, \"value\": n.id} for n in LevelOrderIter(root_node)]"
   ]
  },
  {
   "cell_type": "code",
   "execution_count": 68,
   "metadata": {},
   "outputs": [
    {
     "data": {
      "text/plain": [
       "[[{'label': 'Product', 'value': '927367268'}],\n",
       " [{'label': 'Feature Brief: Extensible data sources', 'value': '1203175560'},\n",
       "  {'label': 'Tech Spec for Implementing Conversation History',\n",
       "   'value': '1404895236'},\n",
       "  {'label': 'Chatbot versioning strategy', 'value': '1417838624'},\n",
       "  {'label': 'Tech Spec: Automating QA evaluation pipeline for DST chat',\n",
       "   'value': '1590591516'},\n",
       "  {'label': '[DRAFT] Tech Spec: Exploration of expert curation for DST evaluation',\n",
       "   'value': '1549631705'}],\n",
       " [{'label': 'Tech spec for ingesting policy PDFs', 'value': '1233616975'},\n",
       "  {'label': 'Evaluation Criteria for PDF-Parsing Tools',\n",
       "   'value': '1291419695'},\n",
       "  {'label': 'Tech Spec for improving PDF parsing', 'value': '1305083960'},\n",
       "  {'label': 'Tech Spec: Separating Chunks and Citations',\n",
       "   'value': '1342177290'},\n",
       "  {'label': 'Lightweight ingestion script for web sources',\n",
       "   'value': '1384448006'}],\n",
       " [{'label': 'Sample inputs and outputs for test cases',\n",
       "   'value': '1307967493'}]]"
      ]
     },
     "execution_count": 68,
     "metadata": {},
     "output_type": "execute_result"
    }
   ],
   "source": [
    "[[{\"label\": node.title, \"value\": node.id} for node in children] for children in LevelOrderGroupIter(root_node)]"
   ]
  },
  {
   "cell_type": "code",
   "execution_count": null,
   "metadata": {},
   "outputs": [],
   "source": []
  }
 ],
 "metadata": {
  "kernelspec": {
   "display_name": ".venv",
   "language": "python",
   "name": "python3"
  },
  "language_info": {
   "codemirror_mode": {
    "name": "ipython",
    "version": 3
   },
   "file_extension": ".py",
   "mimetype": "text/x-python",
   "name": "python",
   "nbconvert_exporter": "python",
   "pygments_lexer": "ipython3",
   "version": "3.11.10"
  }
 },
 "nbformat": 4,
 "nbformat_minor": 2
}
